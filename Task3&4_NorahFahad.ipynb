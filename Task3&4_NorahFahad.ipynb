{
  "cells": [
    {
      "cell_type": "markdown",
      "source": [
        "# Task 3&4 🚩\n",
        "In this task, we want you to use the [Bikes Dataset](https://drive.google.com/file/d/1PlgVA9ABSAq1hFmoW6ydqpTocr7BxfL9/view?usp=sharing) to practice the data cleaning&analysis process\n",
        " \n",
        "\n",
        "\n"
      ],
      "metadata": {
        "id": "kPU1ZpI5NGi1"
      }
    },
    {
      "cell_type": "markdown",
      "source": [
        "## Data Cleaning Functions\n",
        "> * head()\n",
        "> * shape\n",
        "> * info()\n",
        "> * describe()\n",
        "> * duplicated()\n",
        "> * drop\n",
        "> * isnull()\n",
        "> * fillna\n",
        "\n",
        "Extra resources:\n",
        ">* [useful pandas functions](https://regenerativetoday.com/30-very-useful-pandas-functions-for-everyday-data-analysis-tasks/)\n",
        ">* [Pandas Documentation](https://pandas.pydata.org/docs/getting_started/index.html)\n",
        ">* [Pandas Sheet Cheat](https://drive.google.com/file/d/1dqxMzrPlI0YSt4W2MQQPvji7XqkSXh93/view?usp=sharing)"
      ],
      "metadata": {
        "id": "45Iuo35MZUu_"
      }
    },
    {
      "cell_type": "markdown",
      "metadata": {
        "id": "wD3Bx4Iu9bC_"
      },
      "source": [
        "# STEP 1:  **Importing Libraries & Load Data**"
      ]
    },
    {
      "cell_type": "code",
      "execution_count": null,
      "metadata": {
        "id": "zZieucTS9bC9"
      },
      "outputs": [],
      "source": [
        "#import Libraries\n",
        "import pandas as pd\n",
        "import matplotlib.pyplot as plt\n",
        "import seaborn as sns\n",
        "from textwrap import wrap #to split labels in lines"
      ]
    },
    {
      "cell_type": "markdown",
      "source": [
        "## Google drive\n",
        "If you want to get or save files from/to your google drive \n",
        ">Here is the snippet code to do this ( after you run the below cell you should give the permission to google colab )"
      ],
      "metadata": {
        "id": "XyVW6bffEE-S"
      }
    },
    {
      "cell_type": "code",
      "source": [
        "#mount drive to read the csv file\n",
        "from google.colab import drive\n",
        "drive.mount('/content/drive')"
      ],
      "metadata": {
        "colab": {
          "base_uri": "https://localhost:8080/"
        },
        "id": "-IywbyItMkcb",
        "outputId": "bc2495f9-118b-44b1-c49a-6cb58279296a"
      },
      "execution_count": null,
      "outputs": [
        {
          "output_type": "stream",
          "name": "stdout",
          "text": [
            "Drive already mounted at /content/drive; to attempt to forcibly remount, call drive.mount(\"/content/drive\", force_remount=True).\n"
          ]
        }
      ]
    },
    {
      "cell_type": "code",
      "execution_count": null,
      "metadata": {
        "id": "aLTwe1QO9bDA"
      },
      "outputs": [],
      "source": [
        "#read the csv file \n",
        "data = pd.read_csv('/content/drive/MyDrive/AI-Tasks/bike_trips.csv')"
      ]
    },
    {
      "cell_type": "markdown",
      "metadata": {
        "id": "IFveiu1-9bDB"
      },
      "source": [
        "# STEP 2: **Exploring Data**"
      ]
    },
    {
      "cell_type": "code",
      "execution_count": null,
      "metadata": {
        "id": "0BV0-ikI9bDB",
        "colab": {
          "base_uri": "https://localhost:8080/"
        },
        "outputId": "42d75c14-de09-420c-a9cf-41b44500db5c"
      },
      "outputs": [
        {
          "output_type": "execute_result",
          "data": {
            "text/plain": [
              "(183412, 16)"
            ]
          },
          "metadata": {},
          "execution_count": 6
        }
      ],
      "source": [
        "#example: how many rows and columns are in the data? \n",
        "data.shape #shape to show how many rows and colomns in the data set"
      ]
    },
    {
      "cell_type": "code",
      "source": [
        "#head() to show the first 5 rows\n",
        "data.head()"
      ],
      "metadata": {
        "colab": {
          "base_uri": "https://localhost:8080/",
          "height": 392
        },
        "id": "OG74NW3uXwvC",
        "outputId": "13a96e3d-0a31-4a2f-d91e-72f94c073388"
      },
      "execution_count": null,
      "outputs": [
        {
          "output_type": "execute_result",
          "data": {
            "text/plain": [
              "   duration_sec                start_time                  end_time  \\\n",
              "0         52185  2019-02-28 17:32:10.1450  2019-03-01 08:01:55.9750   \n",
              "1         42521  2019-02-28 18:53:21.7890  2019-03-01 06:42:03.0560   \n",
              "2         61854  2019-02-28 12:13:13.2180  2019-03-01 05:24:08.1460   \n",
              "3         36490  2019-02-28 17:54:26.0100  2019-03-01 04:02:36.8420   \n",
              "4          1585  2019-02-28 23:54:18.5490  2019-03-01 00:20:44.0740   \n",
              "\n",
              "   start_station_id                                start_station_name  \\\n",
              "0              21.0  Montgomery St BART Station (Market St at 2nd St)   \n",
              "1              23.0                     The Embarcadero at Steuart St   \n",
              "2              86.0                           Market St at Dolores St   \n",
              "3             375.0                           Grove St at Masonic Ave   \n",
              "4               7.0                               Frank H Ogawa Plaza   \n",
              "\n",
              "   start_station_latitude  start_station_longitude  end_station_id  \\\n",
              "0               37.789625              -122.400811            13.0   \n",
              "1               37.791464              -122.391034            81.0   \n",
              "2               37.769305              -122.426826             3.0   \n",
              "3               37.774836              -122.446546            70.0   \n",
              "4               37.804562              -122.271738           222.0   \n",
              "\n",
              "                               end_station_name  end_station_latitude  \\\n",
              "0                Commercial St at Montgomery St             37.794231   \n",
              "1                            Berry St at 4th St             37.775880   \n",
              "2  Powell St BART Station (Market St at 4th St)             37.786375   \n",
              "3                        Central Ave at Fell St             37.773311   \n",
              "4                         10th Ave at E 15th St             37.792714   \n",
              "\n",
              "   end_station_longitude  bike_id   user_type  member_birth_year  \\\n",
              "0            -122.402923     4902    Customer             1984.0   \n",
              "1            -122.393170     2535    Customer                NaN   \n",
              "2            -122.404904     5905    Customer             1972.0   \n",
              "3            -122.444293     6638  Subscriber             1989.0   \n",
              "4            -122.248780     4898  Subscriber             1974.0   \n",
              "\n",
              "  member_gender bike_share_for_all_trip  \n",
              "0          Male                      No  \n",
              "1           NaN                      No  \n",
              "2          Male                      No  \n",
              "3         Other                      No  \n",
              "4          Male                     Yes  "
            ],
            "text/html": [
              "\n",
              "  <div id=\"df-0a067645-63c2-4ccc-9231-f6010548daef\">\n",
              "    <div class=\"colab-df-container\">\n",
              "      <div>\n",
              "<style scoped>\n",
              "    .dataframe tbody tr th:only-of-type {\n",
              "        vertical-align: middle;\n",
              "    }\n",
              "\n",
              "    .dataframe tbody tr th {\n",
              "        vertical-align: top;\n",
              "    }\n",
              "\n",
              "    .dataframe thead th {\n",
              "        text-align: right;\n",
              "    }\n",
              "</style>\n",
              "<table border=\"1\" class=\"dataframe\">\n",
              "  <thead>\n",
              "    <tr style=\"text-align: right;\">\n",
              "      <th></th>\n",
              "      <th>duration_sec</th>\n",
              "      <th>start_time</th>\n",
              "      <th>end_time</th>\n",
              "      <th>start_station_id</th>\n",
              "      <th>start_station_name</th>\n",
              "      <th>start_station_latitude</th>\n",
              "      <th>start_station_longitude</th>\n",
              "      <th>end_station_id</th>\n",
              "      <th>end_station_name</th>\n",
              "      <th>end_station_latitude</th>\n",
              "      <th>end_station_longitude</th>\n",
              "      <th>bike_id</th>\n",
              "      <th>user_type</th>\n",
              "      <th>member_birth_year</th>\n",
              "      <th>member_gender</th>\n",
              "      <th>bike_share_for_all_trip</th>\n",
              "    </tr>\n",
              "  </thead>\n",
              "  <tbody>\n",
              "    <tr>\n",
              "      <th>0</th>\n",
              "      <td>52185</td>\n",
              "      <td>2019-02-28 17:32:10.1450</td>\n",
              "      <td>2019-03-01 08:01:55.9750</td>\n",
              "      <td>21.0</td>\n",
              "      <td>Montgomery St BART Station (Market St at 2nd St)</td>\n",
              "      <td>37.789625</td>\n",
              "      <td>-122.400811</td>\n",
              "      <td>13.0</td>\n",
              "      <td>Commercial St at Montgomery St</td>\n",
              "      <td>37.794231</td>\n",
              "      <td>-122.402923</td>\n",
              "      <td>4902</td>\n",
              "      <td>Customer</td>\n",
              "      <td>1984.0</td>\n",
              "      <td>Male</td>\n",
              "      <td>No</td>\n",
              "    </tr>\n",
              "    <tr>\n",
              "      <th>1</th>\n",
              "      <td>42521</td>\n",
              "      <td>2019-02-28 18:53:21.7890</td>\n",
              "      <td>2019-03-01 06:42:03.0560</td>\n",
              "      <td>23.0</td>\n",
              "      <td>The Embarcadero at Steuart St</td>\n",
              "      <td>37.791464</td>\n",
              "      <td>-122.391034</td>\n",
              "      <td>81.0</td>\n",
              "      <td>Berry St at 4th St</td>\n",
              "      <td>37.775880</td>\n",
              "      <td>-122.393170</td>\n",
              "      <td>2535</td>\n",
              "      <td>Customer</td>\n",
              "      <td>NaN</td>\n",
              "      <td>NaN</td>\n",
              "      <td>No</td>\n",
              "    </tr>\n",
              "    <tr>\n",
              "      <th>2</th>\n",
              "      <td>61854</td>\n",
              "      <td>2019-02-28 12:13:13.2180</td>\n",
              "      <td>2019-03-01 05:24:08.1460</td>\n",
              "      <td>86.0</td>\n",
              "      <td>Market St at Dolores St</td>\n",
              "      <td>37.769305</td>\n",
              "      <td>-122.426826</td>\n",
              "      <td>3.0</td>\n",
              "      <td>Powell St BART Station (Market St at 4th St)</td>\n",
              "      <td>37.786375</td>\n",
              "      <td>-122.404904</td>\n",
              "      <td>5905</td>\n",
              "      <td>Customer</td>\n",
              "      <td>1972.0</td>\n",
              "      <td>Male</td>\n",
              "      <td>No</td>\n",
              "    </tr>\n",
              "    <tr>\n",
              "      <th>3</th>\n",
              "      <td>36490</td>\n",
              "      <td>2019-02-28 17:54:26.0100</td>\n",
              "      <td>2019-03-01 04:02:36.8420</td>\n",
              "      <td>375.0</td>\n",
              "      <td>Grove St at Masonic Ave</td>\n",
              "      <td>37.774836</td>\n",
              "      <td>-122.446546</td>\n",
              "      <td>70.0</td>\n",
              "      <td>Central Ave at Fell St</td>\n",
              "      <td>37.773311</td>\n",
              "      <td>-122.444293</td>\n",
              "      <td>6638</td>\n",
              "      <td>Subscriber</td>\n",
              "      <td>1989.0</td>\n",
              "      <td>Other</td>\n",
              "      <td>No</td>\n",
              "    </tr>\n",
              "    <tr>\n",
              "      <th>4</th>\n",
              "      <td>1585</td>\n",
              "      <td>2019-02-28 23:54:18.5490</td>\n",
              "      <td>2019-03-01 00:20:44.0740</td>\n",
              "      <td>7.0</td>\n",
              "      <td>Frank H Ogawa Plaza</td>\n",
              "      <td>37.804562</td>\n",
              "      <td>-122.271738</td>\n",
              "      <td>222.0</td>\n",
              "      <td>10th Ave at E 15th St</td>\n",
              "      <td>37.792714</td>\n",
              "      <td>-122.248780</td>\n",
              "      <td>4898</td>\n",
              "      <td>Subscriber</td>\n",
              "      <td>1974.0</td>\n",
              "      <td>Male</td>\n",
              "      <td>Yes</td>\n",
              "    </tr>\n",
              "  </tbody>\n",
              "</table>\n",
              "</div>\n",
              "      <button class=\"colab-df-convert\" onclick=\"convertToInteractive('df-0a067645-63c2-4ccc-9231-f6010548daef')\"\n",
              "              title=\"Convert this dataframe to an interactive table.\"\n",
              "              style=\"display:none;\">\n",
              "        \n",
              "  <svg xmlns=\"http://www.w3.org/2000/svg\" height=\"24px\"viewBox=\"0 0 24 24\"\n",
              "       width=\"24px\">\n",
              "    <path d=\"M0 0h24v24H0V0z\" fill=\"none\"/>\n",
              "    <path d=\"M18.56 5.44l.94 2.06.94-2.06 2.06-.94-2.06-.94-.94-2.06-.94 2.06-2.06.94zm-11 1L8.5 8.5l.94-2.06 2.06-.94-2.06-.94L8.5 2.5l-.94 2.06-2.06.94zm10 10l.94 2.06.94-2.06 2.06-.94-2.06-.94-.94-2.06-.94 2.06-2.06.94z\"/><path d=\"M17.41 7.96l-1.37-1.37c-.4-.4-.92-.59-1.43-.59-.52 0-1.04.2-1.43.59L10.3 9.45l-7.72 7.72c-.78.78-.78 2.05 0 2.83L4 21.41c.39.39.9.59 1.41.59.51 0 1.02-.2 1.41-.59l7.78-7.78 2.81-2.81c.8-.78.8-2.07 0-2.86zM5.41 20L4 18.59l7.72-7.72 1.47 1.35L5.41 20z\"/>\n",
              "  </svg>\n",
              "      </button>\n",
              "      \n",
              "  <style>\n",
              "    .colab-df-container {\n",
              "      display:flex;\n",
              "      flex-wrap:wrap;\n",
              "      gap: 12px;\n",
              "    }\n",
              "\n",
              "    .colab-df-convert {\n",
              "      background-color: #E8F0FE;\n",
              "      border: none;\n",
              "      border-radius: 50%;\n",
              "      cursor: pointer;\n",
              "      display: none;\n",
              "      fill: #1967D2;\n",
              "      height: 32px;\n",
              "      padding: 0 0 0 0;\n",
              "      width: 32px;\n",
              "    }\n",
              "\n",
              "    .colab-df-convert:hover {\n",
              "      background-color: #E2EBFA;\n",
              "      box-shadow: 0px 1px 2px rgba(60, 64, 67, 0.3), 0px 1px 3px 1px rgba(60, 64, 67, 0.15);\n",
              "      fill: #174EA6;\n",
              "    }\n",
              "\n",
              "    [theme=dark] .colab-df-convert {\n",
              "      background-color: #3B4455;\n",
              "      fill: #D2E3FC;\n",
              "    }\n",
              "\n",
              "    [theme=dark] .colab-df-convert:hover {\n",
              "      background-color: #434B5C;\n",
              "      box-shadow: 0px 1px 3px 1px rgba(0, 0, 0, 0.15);\n",
              "      filter: drop-shadow(0px 1px 2px rgba(0, 0, 0, 0.3));\n",
              "      fill: #FFFFFF;\n",
              "    }\n",
              "  </style>\n",
              "\n",
              "      <script>\n",
              "        const buttonEl =\n",
              "          document.querySelector('#df-0a067645-63c2-4ccc-9231-f6010548daef button.colab-df-convert');\n",
              "        buttonEl.style.display =\n",
              "          google.colab.kernel.accessAllowed ? 'block' : 'none';\n",
              "\n",
              "        async function convertToInteractive(key) {\n",
              "          const element = document.querySelector('#df-0a067645-63c2-4ccc-9231-f6010548daef');\n",
              "          const dataTable =\n",
              "            await google.colab.kernel.invokeFunction('convertToInteractive',\n",
              "                                                     [key], {});\n",
              "          if (!dataTable) return;\n",
              "\n",
              "          const docLinkHtml = 'Like what you see? Visit the ' +\n",
              "            '<a target=\"_blank\" href=https://colab.research.google.com/notebooks/data_table.ipynb>data table notebook</a>'\n",
              "            + ' to learn more about interactive tables.';\n",
              "          element.innerHTML = '';\n",
              "          dataTable['output_type'] = 'display_data';\n",
              "          await google.colab.output.renderOutput(dataTable, element);\n",
              "          const docLink = document.createElement('div');\n",
              "          docLink.innerHTML = docLinkHtml;\n",
              "          element.appendChild(docLink);\n",
              "        }\n",
              "      </script>\n",
              "    </div>\n",
              "  </div>\n",
              "  "
            ]
          },
          "metadata": {},
          "execution_count": 7
        }
      ]
    },
    {
      "cell_type": "code",
      "source": [
        "#info() shows the sum of rows and the data type for each column \n",
        "data.info()"
      ],
      "metadata": {
        "colab": {
          "base_uri": "https://localhost:8080/"
        },
        "id": "H0jElc1TZBCS",
        "outputId": "a3ba7713-a9c1-4082-8219-b9b21fa61487"
      },
      "execution_count": null,
      "outputs": [
        {
          "output_type": "stream",
          "name": "stdout",
          "text": [
            "<class 'pandas.core.frame.DataFrame'>\n",
            "RangeIndex: 183412 entries, 0 to 183411\n",
            "Data columns (total 16 columns):\n",
            " #   Column                   Non-Null Count   Dtype  \n",
            "---  ------                   --------------   -----  \n",
            " 0   duration_sec             183412 non-null  int64  \n",
            " 1   start_time               183412 non-null  object \n",
            " 2   end_time                 183412 non-null  object \n",
            " 3   start_station_id         183215 non-null  float64\n",
            " 4   start_station_name       183215 non-null  object \n",
            " 5   start_station_latitude   183412 non-null  float64\n",
            " 6   start_station_longitude  183412 non-null  float64\n",
            " 7   end_station_id           183215 non-null  float64\n",
            " 8   end_station_name         183215 non-null  object \n",
            " 9   end_station_latitude     183412 non-null  float64\n",
            " 10  end_station_longitude    183412 non-null  float64\n",
            " 11  bike_id                  183412 non-null  int64  \n",
            " 12  user_type                183412 non-null  object \n",
            " 13  member_birth_year        175147 non-null  float64\n",
            " 14  member_gender            175147 non-null  object \n",
            " 15  bike_share_for_all_trip  183412 non-null  object \n",
            "dtypes: float64(7), int64(2), object(7)\n",
            "memory usage: 22.4+ MB\n"
          ]
        }
      ]
    },
    {
      "cell_type": "code",
      "source": [
        "#isnull().sum() to show the sum of null values in each column\n",
        "data.isnull().sum()"
      ],
      "metadata": {
        "colab": {
          "base_uri": "https://localhost:8080/"
        },
        "id": "PAl4OrhxZoao",
        "outputId": "2b4ea779-baec-442a-cdb4-2e23e7c58361"
      },
      "execution_count": null,
      "outputs": [
        {
          "output_type": "execute_result",
          "data": {
            "text/plain": [
              "duration_sec                  0\n",
              "start_time                    0\n",
              "end_time                      0\n",
              "start_station_id            197\n",
              "start_station_name          197\n",
              "start_station_latitude        0\n",
              "start_station_longitude       0\n",
              "end_station_id              197\n",
              "end_station_name            197\n",
              "end_station_latitude          0\n",
              "end_station_longitude         0\n",
              "bike_id                       0\n",
              "user_type                     0\n",
              "member_birth_year          8265\n",
              "member_gender              8265\n",
              "bike_share_for_all_trip       0\n",
              "dtype: int64"
            ]
          },
          "metadata": {},
          "execution_count": 9
        }
      ]
    },
    {
      "cell_type": "code",
      "source": [
        "#duplicated().sum() its shows the sum of duplicated values\n",
        "data.duplicated().sum()"
      ],
      "metadata": {
        "colab": {
          "base_uri": "https://localhost:8080/"
        },
        "id": "NoY3Dr_xe3lb",
        "outputId": "90bba6b0-7cc8-4b90-c2e2-2d35a18a5862"
      },
      "execution_count": null,
      "outputs": [
        {
          "output_type": "execute_result",
          "data": {
            "text/plain": [
              "0"
            ]
          },
          "metadata": {},
          "execution_count": 10
        }
      ]
    },
    {
      "cell_type": "code",
      "source": [
        "#to show the count of rows in each category of user_type column\n",
        "data['user_type'].value_counts()"
      ],
      "metadata": {
        "colab": {
          "base_uri": "https://localhost:8080/"
        },
        "id": "towWyIZHEFZb",
        "outputId": "4e72360d-a14c-4da1-8f7e-df8660fad22a"
      },
      "execution_count": null,
      "outputs": [
        {
          "output_type": "execute_result",
          "data": {
            "text/plain": [
              "Subscriber    163544\n",
              "Customer       19868\n",
              "Name: user_type, dtype: int64"
            ]
          },
          "metadata": {},
          "execution_count": 11
        }
      ]
    },
    {
      "cell_type": "code",
      "source": [
        "#the count of rows in each category of member_gender\n",
        "data['member_gender'].value_counts()"
      ],
      "metadata": {
        "colab": {
          "base_uri": "https://localhost:8080/"
        },
        "id": "39AKNgSiCXGG",
        "outputId": "04ef61a0-69e5-4081-aeee-d188fcfc330a"
      },
      "execution_count": null,
      "outputs": [
        {
          "output_type": "execute_result",
          "data": {
            "text/plain": [
              "Male      130651\n",
              "Female     40844\n",
              "Other       3652\n",
              "Name: member_gender, dtype: int64"
            ]
          },
          "metadata": {},
          "execution_count": 12
        }
      ]
    },
    {
      "cell_type": "markdown",
      "source": [
        "##Extra cell: Assess data\n",
        "From the data exploring that we did above here is our note:\n",
        "\n",
        "> ##  1. unwanted columns (*why?*) ***Unimportant data***\n",
        "1.   start_station_latitude\n",
        "2.   start_station_longitude\n",
        "2.   end_station_latitude\n",
        "2.   end_station_longitude \n",
        "1.   bike_share_for_all_trip\n",
        "\n",
        "> ## 2. Calculate the age from member_birth_year column, will lead to:\n",
        "1.   delete member_birth_year column after the calculation\n",
        "2.   have member_age column instead of member_birth_year\n",
        "2.   delete the rows that have illogical member age \n",
        "\n",
        "> ## 3. null values\n",
        "1.   start_station_id\n",
        "1.   start_station_name\n",
        "1.   end_station_id\n",
        "2.   end_station_name\n",
        "2.   member_age\n",
        "2.   member_gender\n",
        "\n",
        "> ## 4. wrong columns datatype\n",
        "1.   start_station_id\n",
        "1.   end_station_id\n",
        "1.   user_type\n",
        "2.   member_age\n",
        "2.   member_gender\n",
        "1.   start_time\n",
        "2.   end_time\n",
        "\n",
        ">  ## 5. seperation the day and hour from start_time and end_time columns\n",
        "\n",
        "> ##   there is no duplicated values\n",
        "\n",
        "\n",
        "\n",
        "\n"
      ],
      "metadata": {
        "id": "SGzM8-C0cQ8s"
      }
    },
    {
      "cell_type": "markdown",
      "metadata": {
        "id": "_lbHfbUs9bDC"
      },
      "source": [
        "# STEP 3: **Clean Data**"
      ]
    },
    {
      "cell_type": "markdown",
      "metadata": {
        "id": "aopnlI8A9bDC"
      },
      "source": [
        "After assessing the dataset, we are ready to start **Data Cleaning** process:\n",
        "1. unwanted columns\n",
        "2. Calculate the age from member_birth_year column\n",
        "3. null values\n",
        "2. wrong columns datatype\n",
        "1. seperation the day, month and hour from \n",
        "start_time and end_time columns\n",
        "\n",
        "\n"
      ]
    },
    {
      "cell_type": "markdown",
      "metadata": {
        "id": "rAZajOLR9bDD"
      },
      "source": [
        " ## 1. First problem: unwanted columns\n",
        "----\n",
        "will drop these colomns because it is Unimportant\n"
      ]
    },
    {
      "cell_type": "code",
      "execution_count": null,
      "metadata": {
        "id": "-p_5ymaz9bDD",
        "colab": {
          "base_uri": "https://localhost:8080/",
          "height": 250
        },
        "outputId": "afd37900-ebdc-4ca2-bc45-bd36c77a59da"
      },
      "outputs": [
        {
          "output_type": "execute_result",
          "data": {
            "text/plain": [
              "   duration_sec                start_time                  end_time  \\\n",
              "0         52185  2019-02-28 17:32:10.1450  2019-03-01 08:01:55.9750   \n",
              "1         42521  2019-02-28 18:53:21.7890  2019-03-01 06:42:03.0560   \n",
              "2         61854  2019-02-28 12:13:13.2180  2019-03-01 05:24:08.1460   \n",
              "3         36490  2019-02-28 17:54:26.0100  2019-03-01 04:02:36.8420   \n",
              "4          1585  2019-02-28 23:54:18.5490  2019-03-01 00:20:44.0740   \n",
              "\n",
              "   start_station_id                                start_station_name  \\\n",
              "0              21.0  Montgomery St BART Station (Market St at 2nd St)   \n",
              "1              23.0                     The Embarcadero at Steuart St   \n",
              "2              86.0                           Market St at Dolores St   \n",
              "3             375.0                           Grove St at Masonic Ave   \n",
              "4               7.0                               Frank H Ogawa Plaza   \n",
              "\n",
              "   end_station_id                              end_station_name  bike_id  \\\n",
              "0            13.0                Commercial St at Montgomery St     4902   \n",
              "1            81.0                            Berry St at 4th St     2535   \n",
              "2             3.0  Powell St BART Station (Market St at 4th St)     5905   \n",
              "3            70.0                        Central Ave at Fell St     6638   \n",
              "4           222.0                         10th Ave at E 15th St     4898   \n",
              "\n",
              "    user_type  member_birth_year member_gender  \n",
              "0    Customer             1984.0          Male  \n",
              "1    Customer                NaN           NaN  \n",
              "2    Customer             1972.0          Male  \n",
              "3  Subscriber             1989.0         Other  \n",
              "4  Subscriber             1974.0          Male  "
            ],
            "text/html": [
              "\n",
              "  <div id=\"df-19b4c122-13c7-45d1-9e8e-eb922a3548e1\">\n",
              "    <div class=\"colab-df-container\">\n",
              "      <div>\n",
              "<style scoped>\n",
              "    .dataframe tbody tr th:only-of-type {\n",
              "        vertical-align: middle;\n",
              "    }\n",
              "\n",
              "    .dataframe tbody tr th {\n",
              "        vertical-align: top;\n",
              "    }\n",
              "\n",
              "    .dataframe thead th {\n",
              "        text-align: right;\n",
              "    }\n",
              "</style>\n",
              "<table border=\"1\" class=\"dataframe\">\n",
              "  <thead>\n",
              "    <tr style=\"text-align: right;\">\n",
              "      <th></th>\n",
              "      <th>duration_sec</th>\n",
              "      <th>start_time</th>\n",
              "      <th>end_time</th>\n",
              "      <th>start_station_id</th>\n",
              "      <th>start_station_name</th>\n",
              "      <th>end_station_id</th>\n",
              "      <th>end_station_name</th>\n",
              "      <th>bike_id</th>\n",
              "      <th>user_type</th>\n",
              "      <th>member_birth_year</th>\n",
              "      <th>member_gender</th>\n",
              "    </tr>\n",
              "  </thead>\n",
              "  <tbody>\n",
              "    <tr>\n",
              "      <th>0</th>\n",
              "      <td>52185</td>\n",
              "      <td>2019-02-28 17:32:10.1450</td>\n",
              "      <td>2019-03-01 08:01:55.9750</td>\n",
              "      <td>21.0</td>\n",
              "      <td>Montgomery St BART Station (Market St at 2nd St)</td>\n",
              "      <td>13.0</td>\n",
              "      <td>Commercial St at Montgomery St</td>\n",
              "      <td>4902</td>\n",
              "      <td>Customer</td>\n",
              "      <td>1984.0</td>\n",
              "      <td>Male</td>\n",
              "    </tr>\n",
              "    <tr>\n",
              "      <th>1</th>\n",
              "      <td>42521</td>\n",
              "      <td>2019-02-28 18:53:21.7890</td>\n",
              "      <td>2019-03-01 06:42:03.0560</td>\n",
              "      <td>23.0</td>\n",
              "      <td>The Embarcadero at Steuart St</td>\n",
              "      <td>81.0</td>\n",
              "      <td>Berry St at 4th St</td>\n",
              "      <td>2535</td>\n",
              "      <td>Customer</td>\n",
              "      <td>NaN</td>\n",
              "      <td>NaN</td>\n",
              "    </tr>\n",
              "    <tr>\n",
              "      <th>2</th>\n",
              "      <td>61854</td>\n",
              "      <td>2019-02-28 12:13:13.2180</td>\n",
              "      <td>2019-03-01 05:24:08.1460</td>\n",
              "      <td>86.0</td>\n",
              "      <td>Market St at Dolores St</td>\n",
              "      <td>3.0</td>\n",
              "      <td>Powell St BART Station (Market St at 4th St)</td>\n",
              "      <td>5905</td>\n",
              "      <td>Customer</td>\n",
              "      <td>1972.0</td>\n",
              "      <td>Male</td>\n",
              "    </tr>\n",
              "    <tr>\n",
              "      <th>3</th>\n",
              "      <td>36490</td>\n",
              "      <td>2019-02-28 17:54:26.0100</td>\n",
              "      <td>2019-03-01 04:02:36.8420</td>\n",
              "      <td>375.0</td>\n",
              "      <td>Grove St at Masonic Ave</td>\n",
              "      <td>70.0</td>\n",
              "      <td>Central Ave at Fell St</td>\n",
              "      <td>6638</td>\n",
              "      <td>Subscriber</td>\n",
              "      <td>1989.0</td>\n",
              "      <td>Other</td>\n",
              "    </tr>\n",
              "    <tr>\n",
              "      <th>4</th>\n",
              "      <td>1585</td>\n",
              "      <td>2019-02-28 23:54:18.5490</td>\n",
              "      <td>2019-03-01 00:20:44.0740</td>\n",
              "      <td>7.0</td>\n",
              "      <td>Frank H Ogawa Plaza</td>\n",
              "      <td>222.0</td>\n",
              "      <td>10th Ave at E 15th St</td>\n",
              "      <td>4898</td>\n",
              "      <td>Subscriber</td>\n",
              "      <td>1974.0</td>\n",
              "      <td>Male</td>\n",
              "    </tr>\n",
              "  </tbody>\n",
              "</table>\n",
              "</div>\n",
              "      <button class=\"colab-df-convert\" onclick=\"convertToInteractive('df-19b4c122-13c7-45d1-9e8e-eb922a3548e1')\"\n",
              "              title=\"Convert this dataframe to an interactive table.\"\n",
              "              style=\"display:none;\">\n",
              "        \n",
              "  <svg xmlns=\"http://www.w3.org/2000/svg\" height=\"24px\"viewBox=\"0 0 24 24\"\n",
              "       width=\"24px\">\n",
              "    <path d=\"M0 0h24v24H0V0z\" fill=\"none\"/>\n",
              "    <path d=\"M18.56 5.44l.94 2.06.94-2.06 2.06-.94-2.06-.94-.94-2.06-.94 2.06-2.06.94zm-11 1L8.5 8.5l.94-2.06 2.06-.94-2.06-.94L8.5 2.5l-.94 2.06-2.06.94zm10 10l.94 2.06.94-2.06 2.06-.94-2.06-.94-.94-2.06-.94 2.06-2.06.94z\"/><path d=\"M17.41 7.96l-1.37-1.37c-.4-.4-.92-.59-1.43-.59-.52 0-1.04.2-1.43.59L10.3 9.45l-7.72 7.72c-.78.78-.78 2.05 0 2.83L4 21.41c.39.39.9.59 1.41.59.51 0 1.02-.2 1.41-.59l7.78-7.78 2.81-2.81c.8-.78.8-2.07 0-2.86zM5.41 20L4 18.59l7.72-7.72 1.47 1.35L5.41 20z\"/>\n",
              "  </svg>\n",
              "      </button>\n",
              "      \n",
              "  <style>\n",
              "    .colab-df-container {\n",
              "      display:flex;\n",
              "      flex-wrap:wrap;\n",
              "      gap: 12px;\n",
              "    }\n",
              "\n",
              "    .colab-df-convert {\n",
              "      background-color: #E8F0FE;\n",
              "      border: none;\n",
              "      border-radius: 50%;\n",
              "      cursor: pointer;\n",
              "      display: none;\n",
              "      fill: #1967D2;\n",
              "      height: 32px;\n",
              "      padding: 0 0 0 0;\n",
              "      width: 32px;\n",
              "    }\n",
              "\n",
              "    .colab-df-convert:hover {\n",
              "      background-color: #E2EBFA;\n",
              "      box-shadow: 0px 1px 2px rgba(60, 64, 67, 0.3), 0px 1px 3px 1px rgba(60, 64, 67, 0.15);\n",
              "      fill: #174EA6;\n",
              "    }\n",
              "\n",
              "    [theme=dark] .colab-df-convert {\n",
              "      background-color: #3B4455;\n",
              "      fill: #D2E3FC;\n",
              "    }\n",
              "\n",
              "    [theme=dark] .colab-df-convert:hover {\n",
              "      background-color: #434B5C;\n",
              "      box-shadow: 0px 1px 3px 1px rgba(0, 0, 0, 0.15);\n",
              "      filter: drop-shadow(0px 1px 2px rgba(0, 0, 0, 0.3));\n",
              "      fill: #FFFFFF;\n",
              "    }\n",
              "  </style>\n",
              "\n",
              "      <script>\n",
              "        const buttonEl =\n",
              "          document.querySelector('#df-19b4c122-13c7-45d1-9e8e-eb922a3548e1 button.colab-df-convert');\n",
              "        buttonEl.style.display =\n",
              "          google.colab.kernel.accessAllowed ? 'block' : 'none';\n",
              "\n",
              "        async function convertToInteractive(key) {\n",
              "          const element = document.querySelector('#df-19b4c122-13c7-45d1-9e8e-eb922a3548e1');\n",
              "          const dataTable =\n",
              "            await google.colab.kernel.invokeFunction('convertToInteractive',\n",
              "                                                     [key], {});\n",
              "          if (!dataTable) return;\n",
              "\n",
              "          const docLinkHtml = 'Like what you see? Visit the ' +\n",
              "            '<a target=\"_blank\" href=https://colab.research.google.com/notebooks/data_table.ipynb>data table notebook</a>'\n",
              "            + ' to learn more about interactive tables.';\n",
              "          element.innerHTML = '';\n",
              "          dataTable['output_type'] = 'display_data';\n",
              "          await google.colab.output.renderOutput(dataTable, element);\n",
              "          const docLink = document.createElement('div');\n",
              "          docLink.innerHTML = docLinkHtml;\n",
              "          element.appendChild(docLink);\n",
              "        }\n",
              "      </script>\n",
              "    </div>\n",
              "  </div>\n",
              "  "
            ]
          },
          "metadata": {},
          "execution_count": 13
        }
      ],
      "source": [
        "data.drop(columns=['start_station_latitude', 'start_station_longitude', 'end_station_latitude', 'end_station_longitude', 'bike_share_for_all_trip'], inplace=True) #delete the 5 column that is useless in the data set\n",
        "data.head() #the data set after solving the first problem"
      ]
    },
    {
      "cell_type": "code",
      "source": [
        "#it will become 11 colomns after deleting 5 columns\n",
        "data.shape "
      ],
      "metadata": {
        "colab": {
          "base_uri": "https://localhost:8080/"
        },
        "id": "cnAdvVtNnQDf",
        "outputId": "b5ec904b-5e90-4322-d224-d5a1c555a28f"
      },
      "execution_count": null,
      "outputs": [
        {
          "output_type": "execute_result",
          "data": {
            "text/plain": [
              "(183412, 11)"
            ]
          },
          "metadata": {},
          "execution_count": 14
        }
      ]
    },
    {
      "cell_type": "markdown",
      "source": [
        " ### 2. Second problem: Calculate the age from member_birth_year column\n",
        " ---\n",
        " after calculating the age will delete  member_birth_year column"
      ],
      "metadata": {
        "id": "6RvkD-itseFy"
      }
    },
    {
      "cell_type": "code",
      "source": [
        "#Create a new column member_age and assign to it the ages value from member_birth_year\n",
        "data['member_age'] = (2022 - data['member_birth_year'])"
      ],
      "metadata": {
        "id": "fQzDjR4nskmf"
      },
      "execution_count": null,
      "outputs": []
    },
    {
      "cell_type": "code",
      "source": [
        "data.drop(columns=['member_birth_year'], inplace=True) #delete member_birth_year column \n",
        "data.head() #the data set after solving the second problem"
      ],
      "metadata": {
        "id": "R31pcXGqu13K",
        "colab": {
          "base_uri": "https://localhost:8080/",
          "height": 206
        },
        "outputId": "9134b4f8-fc4c-497e-b43e-504d75a4ef3d"
      },
      "execution_count": null,
      "outputs": [
        {
          "output_type": "execute_result",
          "data": {
            "text/plain": [
              "   duration_sec                start_time                  end_time  \\\n",
              "0         52185  2019-02-28 17:32:10.1450  2019-03-01 08:01:55.9750   \n",
              "1         42521  2019-02-28 18:53:21.7890  2019-03-01 06:42:03.0560   \n",
              "2         61854  2019-02-28 12:13:13.2180  2019-03-01 05:24:08.1460   \n",
              "3         36490  2019-02-28 17:54:26.0100  2019-03-01 04:02:36.8420   \n",
              "4          1585  2019-02-28 23:54:18.5490  2019-03-01 00:20:44.0740   \n",
              "\n",
              "   start_station_id                                start_station_name  \\\n",
              "0              21.0  Montgomery St BART Station (Market St at 2nd St)   \n",
              "1              23.0                     The Embarcadero at Steuart St   \n",
              "2              86.0                           Market St at Dolores St   \n",
              "3             375.0                           Grove St at Masonic Ave   \n",
              "4               7.0                               Frank H Ogawa Plaza   \n",
              "\n",
              "   end_station_id                              end_station_name  bike_id  \\\n",
              "0            13.0                Commercial St at Montgomery St     4902   \n",
              "1            81.0                            Berry St at 4th St     2535   \n",
              "2             3.0  Powell St BART Station (Market St at 4th St)     5905   \n",
              "3            70.0                        Central Ave at Fell St     6638   \n",
              "4           222.0                         10th Ave at E 15th St     4898   \n",
              "\n",
              "    user_type member_gender  member_age  \n",
              "0    Customer          Male        38.0  \n",
              "1    Customer           NaN         NaN  \n",
              "2    Customer          Male        50.0  \n",
              "3  Subscriber         Other        33.0  \n",
              "4  Subscriber          Male        48.0  "
            ],
            "text/html": [
              "\n",
              "  <div id=\"df-9a7d84f9-db55-45a3-bfc4-5028bd46eeb4\">\n",
              "    <div class=\"colab-df-container\">\n",
              "      <div>\n",
              "<style scoped>\n",
              "    .dataframe tbody tr th:only-of-type {\n",
              "        vertical-align: middle;\n",
              "    }\n",
              "\n",
              "    .dataframe tbody tr th {\n",
              "        vertical-align: top;\n",
              "    }\n",
              "\n",
              "    .dataframe thead th {\n",
              "        text-align: right;\n",
              "    }\n",
              "</style>\n",
              "<table border=\"1\" class=\"dataframe\">\n",
              "  <thead>\n",
              "    <tr style=\"text-align: right;\">\n",
              "      <th></th>\n",
              "      <th>duration_sec</th>\n",
              "      <th>start_time</th>\n",
              "      <th>end_time</th>\n",
              "      <th>start_station_id</th>\n",
              "      <th>start_station_name</th>\n",
              "      <th>end_station_id</th>\n",
              "      <th>end_station_name</th>\n",
              "      <th>bike_id</th>\n",
              "      <th>user_type</th>\n",
              "      <th>member_gender</th>\n",
              "      <th>member_age</th>\n",
              "    </tr>\n",
              "  </thead>\n",
              "  <tbody>\n",
              "    <tr>\n",
              "      <th>0</th>\n",
              "      <td>52185</td>\n",
              "      <td>2019-02-28 17:32:10.1450</td>\n",
              "      <td>2019-03-01 08:01:55.9750</td>\n",
              "      <td>21.0</td>\n",
              "      <td>Montgomery St BART Station (Market St at 2nd St)</td>\n",
              "      <td>13.0</td>\n",
              "      <td>Commercial St at Montgomery St</td>\n",
              "      <td>4902</td>\n",
              "      <td>Customer</td>\n",
              "      <td>Male</td>\n",
              "      <td>38.0</td>\n",
              "    </tr>\n",
              "    <tr>\n",
              "      <th>1</th>\n",
              "      <td>42521</td>\n",
              "      <td>2019-02-28 18:53:21.7890</td>\n",
              "      <td>2019-03-01 06:42:03.0560</td>\n",
              "      <td>23.0</td>\n",
              "      <td>The Embarcadero at Steuart St</td>\n",
              "      <td>81.0</td>\n",
              "      <td>Berry St at 4th St</td>\n",
              "      <td>2535</td>\n",
              "      <td>Customer</td>\n",
              "      <td>NaN</td>\n",
              "      <td>NaN</td>\n",
              "    </tr>\n",
              "    <tr>\n",
              "      <th>2</th>\n",
              "      <td>61854</td>\n",
              "      <td>2019-02-28 12:13:13.2180</td>\n",
              "      <td>2019-03-01 05:24:08.1460</td>\n",
              "      <td>86.0</td>\n",
              "      <td>Market St at Dolores St</td>\n",
              "      <td>3.0</td>\n",
              "      <td>Powell St BART Station (Market St at 4th St)</td>\n",
              "      <td>5905</td>\n",
              "      <td>Customer</td>\n",
              "      <td>Male</td>\n",
              "      <td>50.0</td>\n",
              "    </tr>\n",
              "    <tr>\n",
              "      <th>3</th>\n",
              "      <td>36490</td>\n",
              "      <td>2019-02-28 17:54:26.0100</td>\n",
              "      <td>2019-03-01 04:02:36.8420</td>\n",
              "      <td>375.0</td>\n",
              "      <td>Grove St at Masonic Ave</td>\n",
              "      <td>70.0</td>\n",
              "      <td>Central Ave at Fell St</td>\n",
              "      <td>6638</td>\n",
              "      <td>Subscriber</td>\n",
              "      <td>Other</td>\n",
              "      <td>33.0</td>\n",
              "    </tr>\n",
              "    <tr>\n",
              "      <th>4</th>\n",
              "      <td>1585</td>\n",
              "      <td>2019-02-28 23:54:18.5490</td>\n",
              "      <td>2019-03-01 00:20:44.0740</td>\n",
              "      <td>7.0</td>\n",
              "      <td>Frank H Ogawa Plaza</td>\n",
              "      <td>222.0</td>\n",
              "      <td>10th Ave at E 15th St</td>\n",
              "      <td>4898</td>\n",
              "      <td>Subscriber</td>\n",
              "      <td>Male</td>\n",
              "      <td>48.0</td>\n",
              "    </tr>\n",
              "  </tbody>\n",
              "</table>\n",
              "</div>\n",
              "      <button class=\"colab-df-convert\" onclick=\"convertToInteractive('df-9a7d84f9-db55-45a3-bfc4-5028bd46eeb4')\"\n",
              "              title=\"Convert this dataframe to an interactive table.\"\n",
              "              style=\"display:none;\">\n",
              "        \n",
              "  <svg xmlns=\"http://www.w3.org/2000/svg\" height=\"24px\"viewBox=\"0 0 24 24\"\n",
              "       width=\"24px\">\n",
              "    <path d=\"M0 0h24v24H0V0z\" fill=\"none\"/>\n",
              "    <path d=\"M18.56 5.44l.94 2.06.94-2.06 2.06-.94-2.06-.94-.94-2.06-.94 2.06-2.06.94zm-11 1L8.5 8.5l.94-2.06 2.06-.94-2.06-.94L8.5 2.5l-.94 2.06-2.06.94zm10 10l.94 2.06.94-2.06 2.06-.94-2.06-.94-.94-2.06-.94 2.06-2.06.94z\"/><path d=\"M17.41 7.96l-1.37-1.37c-.4-.4-.92-.59-1.43-.59-.52 0-1.04.2-1.43.59L10.3 9.45l-7.72 7.72c-.78.78-.78 2.05 0 2.83L4 21.41c.39.39.9.59 1.41.59.51 0 1.02-.2 1.41-.59l7.78-7.78 2.81-2.81c.8-.78.8-2.07 0-2.86zM5.41 20L4 18.59l7.72-7.72 1.47 1.35L5.41 20z\"/>\n",
              "  </svg>\n",
              "      </button>\n",
              "      \n",
              "  <style>\n",
              "    .colab-df-container {\n",
              "      display:flex;\n",
              "      flex-wrap:wrap;\n",
              "      gap: 12px;\n",
              "    }\n",
              "\n",
              "    .colab-df-convert {\n",
              "      background-color: #E8F0FE;\n",
              "      border: none;\n",
              "      border-radius: 50%;\n",
              "      cursor: pointer;\n",
              "      display: none;\n",
              "      fill: #1967D2;\n",
              "      height: 32px;\n",
              "      padding: 0 0 0 0;\n",
              "      width: 32px;\n",
              "    }\n",
              "\n",
              "    .colab-df-convert:hover {\n",
              "      background-color: #E2EBFA;\n",
              "      box-shadow: 0px 1px 2px rgba(60, 64, 67, 0.3), 0px 1px 3px 1px rgba(60, 64, 67, 0.15);\n",
              "      fill: #174EA6;\n",
              "    }\n",
              "\n",
              "    [theme=dark] .colab-df-convert {\n",
              "      background-color: #3B4455;\n",
              "      fill: #D2E3FC;\n",
              "    }\n",
              "\n",
              "    [theme=dark] .colab-df-convert:hover {\n",
              "      background-color: #434B5C;\n",
              "      box-shadow: 0px 1px 3px 1px rgba(0, 0, 0, 0.15);\n",
              "      filter: drop-shadow(0px 1px 2px rgba(0, 0, 0, 0.3));\n",
              "      fill: #FFFFFF;\n",
              "    }\n",
              "  </style>\n",
              "\n",
              "      <script>\n",
              "        const buttonEl =\n",
              "          document.querySelector('#df-9a7d84f9-db55-45a3-bfc4-5028bd46eeb4 button.colab-df-convert');\n",
              "        buttonEl.style.display =\n",
              "          google.colab.kernel.accessAllowed ? 'block' : 'none';\n",
              "\n",
              "        async function convertToInteractive(key) {\n",
              "          const element = document.querySelector('#df-9a7d84f9-db55-45a3-bfc4-5028bd46eeb4');\n",
              "          const dataTable =\n",
              "            await google.colab.kernel.invokeFunction('convertToInteractive',\n",
              "                                                     [key], {});\n",
              "          if (!dataTable) return;\n",
              "\n",
              "          const docLinkHtml = 'Like what you see? Visit the ' +\n",
              "            '<a target=\"_blank\" href=https://colab.research.google.com/notebooks/data_table.ipynb>data table notebook</a>'\n",
              "            + ' to learn more about interactive tables.';\n",
              "          element.innerHTML = '';\n",
              "          dataTable['output_type'] = 'display_data';\n",
              "          await google.colab.output.renderOutput(dataTable, element);\n",
              "          const docLink = document.createElement('div');\n",
              "          docLink.innerHTML = docLinkHtml;\n",
              "          element.appendChild(docLink);\n",
              "        }\n",
              "      </script>\n",
              "    </div>\n",
              "  </div>\n",
              "  "
            ]
          },
          "metadata": {},
          "execution_count": 16
        }
      ]
    },
    {
      "cell_type": "code",
      "source": [
        "#the member_age description\n",
        "data['member_age'].describe()"
      ],
      "metadata": {
        "colab": {
          "base_uri": "https://localhost:8080/"
        },
        "id": "gfJsIuyIcPp0",
        "outputId": "ae94d887-e7e0-4808-8cca-05f8783ca3c2"
      },
      "execution_count": null,
      "outputs": [
        {
          "output_type": "execute_result",
          "data": {
            "text/plain": [
              "count    175147.000000\n",
              "mean         37.193563\n",
              "std          10.116689\n",
              "min          21.000000\n",
              "25%          30.000000\n",
              "50%          35.000000\n",
              "75%          42.000000\n",
              "max         144.000000\n",
              "Name: member_age, dtype: float64"
            ]
          },
          "metadata": {},
          "execution_count": 17
        }
      ]
    },
    {
      "cell_type": "code",
      "source": [
        "data.drop(data[data['member_age'] > 80].index, inplace = True) #delete rows with an member_age greater than 80 which is 212 rows\n",
        "data['member_age'].describe() #the member_age description"
      ],
      "metadata": {
        "id": "HihCpuoGVbSC",
        "colab": {
          "base_uri": "https://localhost:8080/"
        },
        "outputId": "74f6589a-8cb4-4a0a-bd37-10927296ac44"
      },
      "execution_count": null,
      "outputs": [
        {
          "output_type": "execute_result",
          "data": {
            "text/plain": [
              "count    174935.000000\n",
              "mean         37.116855\n",
              "std           9.864734\n",
              "min          21.000000\n",
              "25%          30.000000\n",
              "50%          35.000000\n",
              "75%          42.000000\n",
              "max          80.000000\n",
              "Name: member_age, dtype: float64"
            ]
          },
          "metadata": {},
          "execution_count": 18
        }
      ]
    },
    {
      "cell_type": "markdown",
      "metadata": {
        "id": "MA1e7N9W9bDD"
      },
      "source": [
        " ### 3. Third problem: null values\n",
        " ---\n",
        "* start_station_id\n",
        "* start_station_name\n",
        "* end_station_id\n",
        "* end_station_name\n",
        "\n",
        "The above columns have just 197 rows with null value so I will delete it becuase it is small set of data and it will not affect\n",
        "\n",
        "* member_age: here we have 8265 rows with null value so the best thing is to calculate the mean() of the ages and assign it to the null values \n",
        "* member_gender: also here we have 8265 row with null value so I will assign 'other' to these values"
      ]
    },
    {
      "cell_type": "code",
      "source": [
        "#drop the rows with null values in this 4 columns\n",
        "data.dropna(subset=['start_station_id', 'start_station_name', 'end_station_id', 'end_station_name'], inplace=True)"
      ],
      "metadata": {
        "id": "dIeMoHsivu1a"
      },
      "execution_count": null,
      "outputs": []
    },
    {
      "cell_type": "code",
      "source": [
        "#fill the null values in column member_age with the mean of all ages\n",
        "data['member_age'].fillna(data['member_age'].mean(), inplace=True)"
      ],
      "metadata": {
        "id": "gM5jM5Hrx5-9"
      },
      "execution_count": null,
      "outputs": []
    },
    {
      "cell_type": "code",
      "source": [
        "#fill the null values in column member_gender with value (Other)\n",
        "data['member_gender'].fillna('Other', inplace=True)"
      ],
      "metadata": {
        "id": "tiFekevq0H3I"
      },
      "execution_count": null,
      "outputs": []
    },
    {
      "cell_type": "code",
      "source": [
        "#the count of rows in each category after fill null values\n",
        "data['member_gender'].value_counts()"
      ],
      "metadata": {
        "colab": {
          "base_uri": "https://localhost:8080/"
        },
        "id": "Cr8D0BKivU_i",
        "outputId": "d1d7df2a-2c7d-40a1-c5b3-be58eee4d64a"
      },
      "execution_count": null,
      "outputs": [
        {
          "output_type": "execute_result",
          "data": {
            "text/plain": [
              "Male      130331\n",
              "Female     40765\n",
              "Other      11907\n",
              "Name: member_gender, dtype: int64"
            ]
          },
          "metadata": {},
          "execution_count": 22
        }
      ]
    },
    {
      "cell_type": "code",
      "source": [
        "#info() shows the sum of rows and the data type for each column \n",
        "data.info()"
      ],
      "metadata": {
        "colab": {
          "base_uri": "https://localhost:8080/"
        },
        "id": "51uM32CdwKpy",
        "outputId": "ed60d0f7-f203-43ae-9543-1d0be40a8630"
      },
      "execution_count": null,
      "outputs": [
        {
          "output_type": "stream",
          "name": "stdout",
          "text": [
            "<class 'pandas.core.frame.DataFrame'>\n",
            "Int64Index: 183003 entries, 0 to 183411\n",
            "Data columns (total 11 columns):\n",
            " #   Column              Non-Null Count   Dtype  \n",
            "---  ------              --------------   -----  \n",
            " 0   duration_sec        183003 non-null  int64  \n",
            " 1   start_time          183003 non-null  object \n",
            " 2   end_time            183003 non-null  object \n",
            " 3   start_station_id    183003 non-null  float64\n",
            " 4   start_station_name  183003 non-null  object \n",
            " 5   end_station_id      183003 non-null  float64\n",
            " 6   end_station_name    183003 non-null  object \n",
            " 7   bike_id             183003 non-null  int64  \n",
            " 8   user_type           183003 non-null  object \n",
            " 9   member_gender       183003 non-null  object \n",
            " 10  member_age          183003 non-null  float64\n",
            "dtypes: float64(3), int64(2), object(6)\n",
            "memory usage: 16.8+ MB\n"
          ]
        }
      ]
    },
    {
      "cell_type": "code",
      "source": [
        "#the sum of null values in each column after the cleaning\n",
        "data.isnull().sum()"
      ],
      "metadata": {
        "colab": {
          "base_uri": "https://localhost:8080/"
        },
        "id": "B4ePtRDdxvvT",
        "outputId": "894acbb1-cea5-4729-d73f-f4ab4bb28722"
      },
      "execution_count": null,
      "outputs": [
        {
          "output_type": "execute_result",
          "data": {
            "text/plain": [
              "duration_sec          0\n",
              "start_time            0\n",
              "end_time              0\n",
              "start_station_id      0\n",
              "start_station_name    0\n",
              "end_station_id        0\n",
              "end_station_name      0\n",
              "bike_id               0\n",
              "user_type             0\n",
              "member_gender         0\n",
              "member_age            0\n",
              "dtype: int64"
            ]
          },
          "metadata": {},
          "execution_count": 24
        }
      ]
    },
    {
      "cell_type": "markdown",
      "metadata": {
        "id": "KBu-_Ki79bDG"
      },
      "source": [
        "### 4. Forth problem: wrong columns datatype\n",
        "---\n",
        "* From float to int:\n",
        "1.   start_station_id\n",
        "1.   end_station_id\n",
        "2.   member_age\n",
        "\n",
        "* From object to category:\n",
        "1.   user_type\n",
        "2.   member_gender\n",
        "\n",
        "* From object to datetime:\n",
        "1.   start_time\n",
        "2.   end_time\n"
      ]
    },
    {
      "cell_type": "code",
      "source": [
        "#data types before\n",
        "data.dtypes"
      ],
      "metadata": {
        "id": "7pn18oTvKOK2",
        "colab": {
          "base_uri": "https://localhost:8080/"
        },
        "outputId": "85faeb42-4671-4e5d-e1b9-bdefe1f53f02"
      },
      "execution_count": null,
      "outputs": [
        {
          "output_type": "execute_result",
          "data": {
            "text/plain": [
              "duration_sec            int64\n",
              "start_time             object\n",
              "end_time               object\n",
              "start_station_id      float64\n",
              "start_station_name     object\n",
              "end_station_id        float64\n",
              "end_station_name       object\n",
              "bike_id                 int64\n",
              "user_type              object\n",
              "member_gender          object\n",
              "member_age            float64\n",
              "dtype: object"
            ]
          },
          "metadata": {},
          "execution_count": 25
        }
      ]
    },
    {
      "cell_type": "code",
      "source": [
        "#convert the columns to int and category\n",
        "data = data.astype({\"start_station_id\":'int', \"end_station_id\":'int', \"member_age\":'int', \"member_gender\":'category', \"user_type\":'category'})"
      ],
      "metadata": {
        "id": "j-2CzHPG3aoh"
      },
      "execution_count": null,
      "outputs": []
    },
    {
      "cell_type": "code",
      "source": [
        "#convert the columns to datetime\n",
        "data['start_time'] = pd.to_datetime(data['start_time'])\n",
        "data['end_time'] = pd.to_datetime(data['end_time'])"
      ],
      "metadata": {
        "id": "nnr2pY3WG1m4"
      },
      "execution_count": null,
      "outputs": []
    },
    {
      "cell_type": "code",
      "source": [
        "#data types after \n",
        "data.dtypes"
      ],
      "metadata": {
        "colab": {
          "base_uri": "https://localhost:8080/"
        },
        "id": "wbHq-cte41K3",
        "outputId": "15b5aafc-16fb-4077-e786-d378c197ab9d"
      },
      "execution_count": null,
      "outputs": [
        {
          "output_type": "execute_result",
          "data": {
            "text/plain": [
              "duration_sec                   int64\n",
              "start_time            datetime64[ns]\n",
              "end_time              datetime64[ns]\n",
              "start_station_id               int64\n",
              "start_station_name            object\n",
              "end_station_id                 int64\n",
              "end_station_name              object\n",
              "bike_id                        int64\n",
              "user_type                   category\n",
              "member_gender               category\n",
              "member_age                     int64\n",
              "dtype: object"
            ]
          },
          "metadata": {},
          "execution_count": 28
        }
      ]
    },
    {
      "cell_type": "markdown",
      "source": [
        "### 5. Fifth problem: seperation the day and hour from start_time and end_time columns\n",
        "---"
      ],
      "metadata": {
        "id": "xhUp3j5x6r1m"
      }
    },
    {
      "cell_type": "code",
      "source": [
        "#create new columns and use dt.strftime() \n",
        "data['start_day'] = data['start_time'].dt.strftime('%d')\n",
        "data['day_name'] = data['start_time'].dt.strftime('%A')\n",
        "data['start_hour'] = data['start_time'].dt.strftime('%H')\n",
        "\n",
        "data['end_day'] = data['end_time'].dt.strftime('%d')\n",
        "data['end_hour'] = data['end_time'].dt.strftime('%H')"
      ],
      "metadata": {
        "id": "b2j5EdvT6_p9"
      },
      "execution_count": null,
      "outputs": []
    },
    {
      "cell_type": "code",
      "source": [
        "#the data set after solving the fifth problem\n",
        "data.head()"
      ],
      "metadata": {
        "id": "Z4RnwHDyHU0S",
        "colab": {
          "base_uri": "https://localhost:8080/",
          "height": 337
        },
        "outputId": "a7e56a5f-7156-4974-bb5e-1a837d86af10"
      },
      "execution_count": null,
      "outputs": [
        {
          "output_type": "execute_result",
          "data": {
            "text/plain": [
              "   duration_sec              start_time                end_time  \\\n",
              "0         52185 2019-02-28 17:32:10.145 2019-03-01 08:01:55.975   \n",
              "1         42521 2019-02-28 18:53:21.789 2019-03-01 06:42:03.056   \n",
              "2         61854 2019-02-28 12:13:13.218 2019-03-01 05:24:08.146   \n",
              "3         36490 2019-02-28 17:54:26.010 2019-03-01 04:02:36.842   \n",
              "4          1585 2019-02-28 23:54:18.549 2019-03-01 00:20:44.074   \n",
              "\n",
              "   start_station_id                                start_station_name  \\\n",
              "0                21  Montgomery St BART Station (Market St at 2nd St)   \n",
              "1                23                     The Embarcadero at Steuart St   \n",
              "2                86                           Market St at Dolores St   \n",
              "3               375                           Grove St at Masonic Ave   \n",
              "4                 7                               Frank H Ogawa Plaza   \n",
              "\n",
              "   end_station_id                              end_station_name  bike_id  \\\n",
              "0              13                Commercial St at Montgomery St     4902   \n",
              "1              81                            Berry St at 4th St     2535   \n",
              "2               3  Powell St BART Station (Market St at 4th St)     5905   \n",
              "3              70                        Central Ave at Fell St     6638   \n",
              "4             222                         10th Ave at E 15th St     4898   \n",
              "\n",
              "    user_type member_gender  member_age start_day  day_name start_hour  \\\n",
              "0    Customer          Male          38        28  Thursday         17   \n",
              "1    Customer         Other          37        28  Thursday         18   \n",
              "2    Customer          Male          50        28  Thursday         12   \n",
              "3  Subscriber         Other          33        28  Thursday         17   \n",
              "4  Subscriber          Male          48        28  Thursday         23   \n",
              "\n",
              "  end_day end_hour  \n",
              "0      01       08  \n",
              "1      01       06  \n",
              "2      01       05  \n",
              "3      01       04  \n",
              "4      01       00  "
            ],
            "text/html": [
              "\n",
              "  <div id=\"df-3de495a0-354e-4b83-a1b0-d09b0d8e64d2\">\n",
              "    <div class=\"colab-df-container\">\n",
              "      <div>\n",
              "<style scoped>\n",
              "    .dataframe tbody tr th:only-of-type {\n",
              "        vertical-align: middle;\n",
              "    }\n",
              "\n",
              "    .dataframe tbody tr th {\n",
              "        vertical-align: top;\n",
              "    }\n",
              "\n",
              "    .dataframe thead th {\n",
              "        text-align: right;\n",
              "    }\n",
              "</style>\n",
              "<table border=\"1\" class=\"dataframe\">\n",
              "  <thead>\n",
              "    <tr style=\"text-align: right;\">\n",
              "      <th></th>\n",
              "      <th>duration_sec</th>\n",
              "      <th>start_time</th>\n",
              "      <th>end_time</th>\n",
              "      <th>start_station_id</th>\n",
              "      <th>start_station_name</th>\n",
              "      <th>end_station_id</th>\n",
              "      <th>end_station_name</th>\n",
              "      <th>bike_id</th>\n",
              "      <th>user_type</th>\n",
              "      <th>member_gender</th>\n",
              "      <th>member_age</th>\n",
              "      <th>start_day</th>\n",
              "      <th>day_name</th>\n",
              "      <th>start_hour</th>\n",
              "      <th>end_day</th>\n",
              "      <th>end_hour</th>\n",
              "    </tr>\n",
              "  </thead>\n",
              "  <tbody>\n",
              "    <tr>\n",
              "      <th>0</th>\n",
              "      <td>52185</td>\n",
              "      <td>2019-02-28 17:32:10.145</td>\n",
              "      <td>2019-03-01 08:01:55.975</td>\n",
              "      <td>21</td>\n",
              "      <td>Montgomery St BART Station (Market St at 2nd St)</td>\n",
              "      <td>13</td>\n",
              "      <td>Commercial St at Montgomery St</td>\n",
              "      <td>4902</td>\n",
              "      <td>Customer</td>\n",
              "      <td>Male</td>\n",
              "      <td>38</td>\n",
              "      <td>28</td>\n",
              "      <td>Thursday</td>\n",
              "      <td>17</td>\n",
              "      <td>01</td>\n",
              "      <td>08</td>\n",
              "    </tr>\n",
              "    <tr>\n",
              "      <th>1</th>\n",
              "      <td>42521</td>\n",
              "      <td>2019-02-28 18:53:21.789</td>\n",
              "      <td>2019-03-01 06:42:03.056</td>\n",
              "      <td>23</td>\n",
              "      <td>The Embarcadero at Steuart St</td>\n",
              "      <td>81</td>\n",
              "      <td>Berry St at 4th St</td>\n",
              "      <td>2535</td>\n",
              "      <td>Customer</td>\n",
              "      <td>Other</td>\n",
              "      <td>37</td>\n",
              "      <td>28</td>\n",
              "      <td>Thursday</td>\n",
              "      <td>18</td>\n",
              "      <td>01</td>\n",
              "      <td>06</td>\n",
              "    </tr>\n",
              "    <tr>\n",
              "      <th>2</th>\n",
              "      <td>61854</td>\n",
              "      <td>2019-02-28 12:13:13.218</td>\n",
              "      <td>2019-03-01 05:24:08.146</td>\n",
              "      <td>86</td>\n",
              "      <td>Market St at Dolores St</td>\n",
              "      <td>3</td>\n",
              "      <td>Powell St BART Station (Market St at 4th St)</td>\n",
              "      <td>5905</td>\n",
              "      <td>Customer</td>\n",
              "      <td>Male</td>\n",
              "      <td>50</td>\n",
              "      <td>28</td>\n",
              "      <td>Thursday</td>\n",
              "      <td>12</td>\n",
              "      <td>01</td>\n",
              "      <td>05</td>\n",
              "    </tr>\n",
              "    <tr>\n",
              "      <th>3</th>\n",
              "      <td>36490</td>\n",
              "      <td>2019-02-28 17:54:26.010</td>\n",
              "      <td>2019-03-01 04:02:36.842</td>\n",
              "      <td>375</td>\n",
              "      <td>Grove St at Masonic Ave</td>\n",
              "      <td>70</td>\n",
              "      <td>Central Ave at Fell St</td>\n",
              "      <td>6638</td>\n",
              "      <td>Subscriber</td>\n",
              "      <td>Other</td>\n",
              "      <td>33</td>\n",
              "      <td>28</td>\n",
              "      <td>Thursday</td>\n",
              "      <td>17</td>\n",
              "      <td>01</td>\n",
              "      <td>04</td>\n",
              "    </tr>\n",
              "    <tr>\n",
              "      <th>4</th>\n",
              "      <td>1585</td>\n",
              "      <td>2019-02-28 23:54:18.549</td>\n",
              "      <td>2019-03-01 00:20:44.074</td>\n",
              "      <td>7</td>\n",
              "      <td>Frank H Ogawa Plaza</td>\n",
              "      <td>222</td>\n",
              "      <td>10th Ave at E 15th St</td>\n",
              "      <td>4898</td>\n",
              "      <td>Subscriber</td>\n",
              "      <td>Male</td>\n",
              "      <td>48</td>\n",
              "      <td>28</td>\n",
              "      <td>Thursday</td>\n",
              "      <td>23</td>\n",
              "      <td>01</td>\n",
              "      <td>00</td>\n",
              "    </tr>\n",
              "  </tbody>\n",
              "</table>\n",
              "</div>\n",
              "      <button class=\"colab-df-convert\" onclick=\"convertToInteractive('df-3de495a0-354e-4b83-a1b0-d09b0d8e64d2')\"\n",
              "              title=\"Convert this dataframe to an interactive table.\"\n",
              "              style=\"display:none;\">\n",
              "        \n",
              "  <svg xmlns=\"http://www.w3.org/2000/svg\" height=\"24px\"viewBox=\"0 0 24 24\"\n",
              "       width=\"24px\">\n",
              "    <path d=\"M0 0h24v24H0V0z\" fill=\"none\"/>\n",
              "    <path d=\"M18.56 5.44l.94 2.06.94-2.06 2.06-.94-2.06-.94-.94-2.06-.94 2.06-2.06.94zm-11 1L8.5 8.5l.94-2.06 2.06-.94-2.06-.94L8.5 2.5l-.94 2.06-2.06.94zm10 10l.94 2.06.94-2.06 2.06-.94-2.06-.94-.94-2.06-.94 2.06-2.06.94z\"/><path d=\"M17.41 7.96l-1.37-1.37c-.4-.4-.92-.59-1.43-.59-.52 0-1.04.2-1.43.59L10.3 9.45l-7.72 7.72c-.78.78-.78 2.05 0 2.83L4 21.41c.39.39.9.59 1.41.59.51 0 1.02-.2 1.41-.59l7.78-7.78 2.81-2.81c.8-.78.8-2.07 0-2.86zM5.41 20L4 18.59l7.72-7.72 1.47 1.35L5.41 20z\"/>\n",
              "  </svg>\n",
              "      </button>\n",
              "      \n",
              "  <style>\n",
              "    .colab-df-container {\n",
              "      display:flex;\n",
              "      flex-wrap:wrap;\n",
              "      gap: 12px;\n",
              "    }\n",
              "\n",
              "    .colab-df-convert {\n",
              "      background-color: #E8F0FE;\n",
              "      border: none;\n",
              "      border-radius: 50%;\n",
              "      cursor: pointer;\n",
              "      display: none;\n",
              "      fill: #1967D2;\n",
              "      height: 32px;\n",
              "      padding: 0 0 0 0;\n",
              "      width: 32px;\n",
              "    }\n",
              "\n",
              "    .colab-df-convert:hover {\n",
              "      background-color: #E2EBFA;\n",
              "      box-shadow: 0px 1px 2px rgba(60, 64, 67, 0.3), 0px 1px 3px 1px rgba(60, 64, 67, 0.15);\n",
              "      fill: #174EA6;\n",
              "    }\n",
              "\n",
              "    [theme=dark] .colab-df-convert {\n",
              "      background-color: #3B4455;\n",
              "      fill: #D2E3FC;\n",
              "    }\n",
              "\n",
              "    [theme=dark] .colab-df-convert:hover {\n",
              "      background-color: #434B5C;\n",
              "      box-shadow: 0px 1px 3px 1px rgba(0, 0, 0, 0.15);\n",
              "      filter: drop-shadow(0px 1px 2px rgba(0, 0, 0, 0.3));\n",
              "      fill: #FFFFFF;\n",
              "    }\n",
              "  </style>\n",
              "\n",
              "      <script>\n",
              "        const buttonEl =\n",
              "          document.querySelector('#df-3de495a0-354e-4b83-a1b0-d09b0d8e64d2 button.colab-df-convert');\n",
              "        buttonEl.style.display =\n",
              "          google.colab.kernel.accessAllowed ? 'block' : 'none';\n",
              "\n",
              "        async function convertToInteractive(key) {\n",
              "          const element = document.querySelector('#df-3de495a0-354e-4b83-a1b0-d09b0d8e64d2');\n",
              "          const dataTable =\n",
              "            await google.colab.kernel.invokeFunction('convertToInteractive',\n",
              "                                                     [key], {});\n",
              "          if (!dataTable) return;\n",
              "\n",
              "          const docLinkHtml = 'Like what you see? Visit the ' +\n",
              "            '<a target=\"_blank\" href=https://colab.research.google.com/notebooks/data_table.ipynb>data table notebook</a>'\n",
              "            + ' to learn more about interactive tables.';\n",
              "          element.innerHTML = '';\n",
              "          dataTable['output_type'] = 'display_data';\n",
              "          await google.colab.output.renderOutput(dataTable, element);\n",
              "          const docLink = document.createElement('div');\n",
              "          docLink.innerHTML = docLinkHtml;\n",
              "          element.appendChild(docLink);\n",
              "        }\n",
              "      </script>\n",
              "    </div>\n",
              "  </div>\n",
              "  "
            ]
          },
          "metadata": {},
          "execution_count": 30
        }
      ]
    },
    {
      "cell_type": "markdown",
      "source": [
        "##  The dataset AFTER solving problems\n",
        "---"
      ],
      "metadata": {
        "id": "WnGtQeBnE75U"
      }
    },
    {
      "cell_type": "code",
      "source": [
        "#the data set shape after solving the problems\n",
        "data.shape"
      ],
      "metadata": {
        "id": "Bc78JC0snNiE",
        "colab": {
          "base_uri": "https://localhost:8080/"
        },
        "outputId": "63344c1a-1fe3-4d91-c3d8-f152ec096b65"
      },
      "execution_count": null,
      "outputs": [
        {
          "output_type": "execute_result",
          "data": {
            "text/plain": [
              "(183003, 16)"
            ]
          },
          "metadata": {},
          "execution_count": 31
        }
      ]
    },
    {
      "cell_type": "code",
      "source": [
        "#the first 10 rows of the data set after solving the problems\n",
        "data.head(10)"
      ],
      "metadata": {
        "colab": {
          "base_uri": "https://localhost:8080/",
          "height": 581
        },
        "id": "S4EGZHgKFG0-",
        "outputId": "3e4fda23-3bfe-484e-d1da-fd9260032bdf"
      },
      "execution_count": null,
      "outputs": [
        {
          "output_type": "execute_result",
          "data": {
            "text/plain": [
              "   duration_sec              start_time                end_time  \\\n",
              "0         52185 2019-02-28 17:32:10.145 2019-03-01 08:01:55.975   \n",
              "1         42521 2019-02-28 18:53:21.789 2019-03-01 06:42:03.056   \n",
              "2         61854 2019-02-28 12:13:13.218 2019-03-01 05:24:08.146   \n",
              "3         36490 2019-02-28 17:54:26.010 2019-03-01 04:02:36.842   \n",
              "4          1585 2019-02-28 23:54:18.549 2019-03-01 00:20:44.074   \n",
              "5          1793 2019-02-28 23:49:58.632 2019-03-01 00:19:51.760   \n",
              "6          1147 2019-02-28 23:55:35.104 2019-03-01 00:14:42.588   \n",
              "7          1615 2019-02-28 23:41:06.766 2019-03-01 00:08:02.756   \n",
              "8          1570 2019-02-28 23:41:48.790 2019-03-01 00:07:59.715   \n",
              "9          1049 2019-02-28 23:49:47.699 2019-03-01 00:07:17.025   \n",
              "\n",
              "   start_station_id                                start_station_name  \\\n",
              "0                21  Montgomery St BART Station (Market St at 2nd St)   \n",
              "1                23                     The Embarcadero at Steuart St   \n",
              "2                86                           Market St at Dolores St   \n",
              "3               375                           Grove St at Masonic Ave   \n",
              "4                 7                               Frank H Ogawa Plaza   \n",
              "5                93                      4th St at Mission Bay Blvd S   \n",
              "6               300                              Palm St at Willow St   \n",
              "7                10                        Washington St at Kearny St   \n",
              "8                10                        Washington St at Kearny St   \n",
              "9                19                              Post St at Kearny St   \n",
              "\n",
              "   end_station_id                              end_station_name  bike_id  \\\n",
              "0              13                Commercial St at Montgomery St     4902   \n",
              "1              81                            Berry St at 4th St     2535   \n",
              "2               3  Powell St BART Station (Market St at 4th St)     5905   \n",
              "3              70                        Central Ave at Fell St     6638   \n",
              "4             222                         10th Ave at E 15th St     4898   \n",
              "5             323                            Broadway at Kearny     5200   \n",
              "6             312                      San Jose Diridon Station     3803   \n",
              "7             127                        Valencia St at 21st St     6329   \n",
              "8             127                        Valencia St at 21st St     6548   \n",
              "9             121                            Mission Playground     6488   \n",
              "\n",
              "    user_type member_gender  member_age start_day  day_name start_hour  \\\n",
              "0    Customer          Male          38        28  Thursday         17   \n",
              "1    Customer         Other          37        28  Thursday         18   \n",
              "2    Customer          Male          50        28  Thursday         12   \n",
              "3  Subscriber         Other          33        28  Thursday         17   \n",
              "4  Subscriber          Male          48        28  Thursday         23   \n",
              "5  Subscriber          Male          63        28  Thursday         23   \n",
              "6  Subscriber        Female          39        28  Thursday         23   \n",
              "7  Subscriber          Male          33        28  Thursday         23   \n",
              "8  Subscriber         Other          34        28  Thursday         23   \n",
              "9  Subscriber          Male          30        28  Thursday         23   \n",
              "\n",
              "  end_day end_hour  \n",
              "0      01       08  \n",
              "1      01       06  \n",
              "2      01       05  \n",
              "3      01       04  \n",
              "4      01       00  \n",
              "5      01       00  \n",
              "6      01       00  \n",
              "7      01       00  \n",
              "8      01       00  \n",
              "9      01       00  "
            ],
            "text/html": [
              "\n",
              "  <div id=\"df-4cf0a1a4-8f04-468d-aa65-8901d8be949b\">\n",
              "    <div class=\"colab-df-container\">\n",
              "      <div>\n",
              "<style scoped>\n",
              "    .dataframe tbody tr th:only-of-type {\n",
              "        vertical-align: middle;\n",
              "    }\n",
              "\n",
              "    .dataframe tbody tr th {\n",
              "        vertical-align: top;\n",
              "    }\n",
              "\n",
              "    .dataframe thead th {\n",
              "        text-align: right;\n",
              "    }\n",
              "</style>\n",
              "<table border=\"1\" class=\"dataframe\">\n",
              "  <thead>\n",
              "    <tr style=\"text-align: right;\">\n",
              "      <th></th>\n",
              "      <th>duration_sec</th>\n",
              "      <th>start_time</th>\n",
              "      <th>end_time</th>\n",
              "      <th>start_station_id</th>\n",
              "      <th>start_station_name</th>\n",
              "      <th>end_station_id</th>\n",
              "      <th>end_station_name</th>\n",
              "      <th>bike_id</th>\n",
              "      <th>user_type</th>\n",
              "      <th>member_gender</th>\n",
              "      <th>member_age</th>\n",
              "      <th>start_day</th>\n",
              "      <th>day_name</th>\n",
              "      <th>start_hour</th>\n",
              "      <th>end_day</th>\n",
              "      <th>end_hour</th>\n",
              "    </tr>\n",
              "  </thead>\n",
              "  <tbody>\n",
              "    <tr>\n",
              "      <th>0</th>\n",
              "      <td>52185</td>\n",
              "      <td>2019-02-28 17:32:10.145</td>\n",
              "      <td>2019-03-01 08:01:55.975</td>\n",
              "      <td>21</td>\n",
              "      <td>Montgomery St BART Station (Market St at 2nd St)</td>\n",
              "      <td>13</td>\n",
              "      <td>Commercial St at Montgomery St</td>\n",
              "      <td>4902</td>\n",
              "      <td>Customer</td>\n",
              "      <td>Male</td>\n",
              "      <td>38</td>\n",
              "      <td>28</td>\n",
              "      <td>Thursday</td>\n",
              "      <td>17</td>\n",
              "      <td>01</td>\n",
              "      <td>08</td>\n",
              "    </tr>\n",
              "    <tr>\n",
              "      <th>1</th>\n",
              "      <td>42521</td>\n",
              "      <td>2019-02-28 18:53:21.789</td>\n",
              "      <td>2019-03-01 06:42:03.056</td>\n",
              "      <td>23</td>\n",
              "      <td>The Embarcadero at Steuart St</td>\n",
              "      <td>81</td>\n",
              "      <td>Berry St at 4th St</td>\n",
              "      <td>2535</td>\n",
              "      <td>Customer</td>\n",
              "      <td>Other</td>\n",
              "      <td>37</td>\n",
              "      <td>28</td>\n",
              "      <td>Thursday</td>\n",
              "      <td>18</td>\n",
              "      <td>01</td>\n",
              "      <td>06</td>\n",
              "    </tr>\n",
              "    <tr>\n",
              "      <th>2</th>\n",
              "      <td>61854</td>\n",
              "      <td>2019-02-28 12:13:13.218</td>\n",
              "      <td>2019-03-01 05:24:08.146</td>\n",
              "      <td>86</td>\n",
              "      <td>Market St at Dolores St</td>\n",
              "      <td>3</td>\n",
              "      <td>Powell St BART Station (Market St at 4th St)</td>\n",
              "      <td>5905</td>\n",
              "      <td>Customer</td>\n",
              "      <td>Male</td>\n",
              "      <td>50</td>\n",
              "      <td>28</td>\n",
              "      <td>Thursday</td>\n",
              "      <td>12</td>\n",
              "      <td>01</td>\n",
              "      <td>05</td>\n",
              "    </tr>\n",
              "    <tr>\n",
              "      <th>3</th>\n",
              "      <td>36490</td>\n",
              "      <td>2019-02-28 17:54:26.010</td>\n",
              "      <td>2019-03-01 04:02:36.842</td>\n",
              "      <td>375</td>\n",
              "      <td>Grove St at Masonic Ave</td>\n",
              "      <td>70</td>\n",
              "      <td>Central Ave at Fell St</td>\n",
              "      <td>6638</td>\n",
              "      <td>Subscriber</td>\n",
              "      <td>Other</td>\n",
              "      <td>33</td>\n",
              "      <td>28</td>\n",
              "      <td>Thursday</td>\n",
              "      <td>17</td>\n",
              "      <td>01</td>\n",
              "      <td>04</td>\n",
              "    </tr>\n",
              "    <tr>\n",
              "      <th>4</th>\n",
              "      <td>1585</td>\n",
              "      <td>2019-02-28 23:54:18.549</td>\n",
              "      <td>2019-03-01 00:20:44.074</td>\n",
              "      <td>7</td>\n",
              "      <td>Frank H Ogawa Plaza</td>\n",
              "      <td>222</td>\n",
              "      <td>10th Ave at E 15th St</td>\n",
              "      <td>4898</td>\n",
              "      <td>Subscriber</td>\n",
              "      <td>Male</td>\n",
              "      <td>48</td>\n",
              "      <td>28</td>\n",
              "      <td>Thursday</td>\n",
              "      <td>23</td>\n",
              "      <td>01</td>\n",
              "      <td>00</td>\n",
              "    </tr>\n",
              "    <tr>\n",
              "      <th>5</th>\n",
              "      <td>1793</td>\n",
              "      <td>2019-02-28 23:49:58.632</td>\n",
              "      <td>2019-03-01 00:19:51.760</td>\n",
              "      <td>93</td>\n",
              "      <td>4th St at Mission Bay Blvd S</td>\n",
              "      <td>323</td>\n",
              "      <td>Broadway at Kearny</td>\n",
              "      <td>5200</td>\n",
              "      <td>Subscriber</td>\n",
              "      <td>Male</td>\n",
              "      <td>63</td>\n",
              "      <td>28</td>\n",
              "      <td>Thursday</td>\n",
              "      <td>23</td>\n",
              "      <td>01</td>\n",
              "      <td>00</td>\n",
              "    </tr>\n",
              "    <tr>\n",
              "      <th>6</th>\n",
              "      <td>1147</td>\n",
              "      <td>2019-02-28 23:55:35.104</td>\n",
              "      <td>2019-03-01 00:14:42.588</td>\n",
              "      <td>300</td>\n",
              "      <td>Palm St at Willow St</td>\n",
              "      <td>312</td>\n",
              "      <td>San Jose Diridon Station</td>\n",
              "      <td>3803</td>\n",
              "      <td>Subscriber</td>\n",
              "      <td>Female</td>\n",
              "      <td>39</td>\n",
              "      <td>28</td>\n",
              "      <td>Thursday</td>\n",
              "      <td>23</td>\n",
              "      <td>01</td>\n",
              "      <td>00</td>\n",
              "    </tr>\n",
              "    <tr>\n",
              "      <th>7</th>\n",
              "      <td>1615</td>\n",
              "      <td>2019-02-28 23:41:06.766</td>\n",
              "      <td>2019-03-01 00:08:02.756</td>\n",
              "      <td>10</td>\n",
              "      <td>Washington St at Kearny St</td>\n",
              "      <td>127</td>\n",
              "      <td>Valencia St at 21st St</td>\n",
              "      <td>6329</td>\n",
              "      <td>Subscriber</td>\n",
              "      <td>Male</td>\n",
              "      <td>33</td>\n",
              "      <td>28</td>\n",
              "      <td>Thursday</td>\n",
              "      <td>23</td>\n",
              "      <td>01</td>\n",
              "      <td>00</td>\n",
              "    </tr>\n",
              "    <tr>\n",
              "      <th>8</th>\n",
              "      <td>1570</td>\n",
              "      <td>2019-02-28 23:41:48.790</td>\n",
              "      <td>2019-03-01 00:07:59.715</td>\n",
              "      <td>10</td>\n",
              "      <td>Washington St at Kearny St</td>\n",
              "      <td>127</td>\n",
              "      <td>Valencia St at 21st St</td>\n",
              "      <td>6548</td>\n",
              "      <td>Subscriber</td>\n",
              "      <td>Other</td>\n",
              "      <td>34</td>\n",
              "      <td>28</td>\n",
              "      <td>Thursday</td>\n",
              "      <td>23</td>\n",
              "      <td>01</td>\n",
              "      <td>00</td>\n",
              "    </tr>\n",
              "    <tr>\n",
              "      <th>9</th>\n",
              "      <td>1049</td>\n",
              "      <td>2019-02-28 23:49:47.699</td>\n",
              "      <td>2019-03-01 00:07:17.025</td>\n",
              "      <td>19</td>\n",
              "      <td>Post St at Kearny St</td>\n",
              "      <td>121</td>\n",
              "      <td>Mission Playground</td>\n",
              "      <td>6488</td>\n",
              "      <td>Subscriber</td>\n",
              "      <td>Male</td>\n",
              "      <td>30</td>\n",
              "      <td>28</td>\n",
              "      <td>Thursday</td>\n",
              "      <td>23</td>\n",
              "      <td>01</td>\n",
              "      <td>00</td>\n",
              "    </tr>\n",
              "  </tbody>\n",
              "</table>\n",
              "</div>\n",
              "      <button class=\"colab-df-convert\" onclick=\"convertToInteractive('df-4cf0a1a4-8f04-468d-aa65-8901d8be949b')\"\n",
              "              title=\"Convert this dataframe to an interactive table.\"\n",
              "              style=\"display:none;\">\n",
              "        \n",
              "  <svg xmlns=\"http://www.w3.org/2000/svg\" height=\"24px\"viewBox=\"0 0 24 24\"\n",
              "       width=\"24px\">\n",
              "    <path d=\"M0 0h24v24H0V0z\" fill=\"none\"/>\n",
              "    <path d=\"M18.56 5.44l.94 2.06.94-2.06 2.06-.94-2.06-.94-.94-2.06-.94 2.06-2.06.94zm-11 1L8.5 8.5l.94-2.06 2.06-.94-2.06-.94L8.5 2.5l-.94 2.06-2.06.94zm10 10l.94 2.06.94-2.06 2.06-.94-2.06-.94-.94-2.06-.94 2.06-2.06.94z\"/><path d=\"M17.41 7.96l-1.37-1.37c-.4-.4-.92-.59-1.43-.59-.52 0-1.04.2-1.43.59L10.3 9.45l-7.72 7.72c-.78.78-.78 2.05 0 2.83L4 21.41c.39.39.9.59 1.41.59.51 0 1.02-.2 1.41-.59l7.78-7.78 2.81-2.81c.8-.78.8-2.07 0-2.86zM5.41 20L4 18.59l7.72-7.72 1.47 1.35L5.41 20z\"/>\n",
              "  </svg>\n",
              "      </button>\n",
              "      \n",
              "  <style>\n",
              "    .colab-df-container {\n",
              "      display:flex;\n",
              "      flex-wrap:wrap;\n",
              "      gap: 12px;\n",
              "    }\n",
              "\n",
              "    .colab-df-convert {\n",
              "      background-color: #E8F0FE;\n",
              "      border: none;\n",
              "      border-radius: 50%;\n",
              "      cursor: pointer;\n",
              "      display: none;\n",
              "      fill: #1967D2;\n",
              "      height: 32px;\n",
              "      padding: 0 0 0 0;\n",
              "      width: 32px;\n",
              "    }\n",
              "\n",
              "    .colab-df-convert:hover {\n",
              "      background-color: #E2EBFA;\n",
              "      box-shadow: 0px 1px 2px rgba(60, 64, 67, 0.3), 0px 1px 3px 1px rgba(60, 64, 67, 0.15);\n",
              "      fill: #174EA6;\n",
              "    }\n",
              "\n",
              "    [theme=dark] .colab-df-convert {\n",
              "      background-color: #3B4455;\n",
              "      fill: #D2E3FC;\n",
              "    }\n",
              "\n",
              "    [theme=dark] .colab-df-convert:hover {\n",
              "      background-color: #434B5C;\n",
              "      box-shadow: 0px 1px 3px 1px rgba(0, 0, 0, 0.15);\n",
              "      filter: drop-shadow(0px 1px 2px rgba(0, 0, 0, 0.3));\n",
              "      fill: #FFFFFF;\n",
              "    }\n",
              "  </style>\n",
              "\n",
              "      <script>\n",
              "        const buttonEl =\n",
              "          document.querySelector('#df-4cf0a1a4-8f04-468d-aa65-8901d8be949b button.colab-df-convert');\n",
              "        buttonEl.style.display =\n",
              "          google.colab.kernel.accessAllowed ? 'block' : 'none';\n",
              "\n",
              "        async function convertToInteractive(key) {\n",
              "          const element = document.querySelector('#df-4cf0a1a4-8f04-468d-aa65-8901d8be949b');\n",
              "          const dataTable =\n",
              "            await google.colab.kernel.invokeFunction('convertToInteractive',\n",
              "                                                     [key], {});\n",
              "          if (!dataTable) return;\n",
              "\n",
              "          const docLinkHtml = 'Like what you see? Visit the ' +\n",
              "            '<a target=\"_blank\" href=https://colab.research.google.com/notebooks/data_table.ipynb>data table notebook</a>'\n",
              "            + ' to learn more about interactive tables.';\n",
              "          element.innerHTML = '';\n",
              "          dataTable['output_type'] = 'display_data';\n",
              "          await google.colab.output.renderOutput(dataTable, element);\n",
              "          const docLink = document.createElement('div');\n",
              "          docLink.innerHTML = docLinkHtml;\n",
              "          element.appendChild(docLink);\n",
              "        }\n",
              "      </script>\n",
              "    </div>\n",
              "  </div>\n",
              "  "
            ]
          },
          "metadata": {},
          "execution_count": 32
        }
      ]
    },
    {
      "cell_type": "code",
      "source": [
        "#the data set description after solving the problems\n",
        "data.describe(include='all')"
      ],
      "metadata": {
        "id": "X2LPUsPFnp0l",
        "colab": {
          "base_uri": "https://localhost:8080/",
          "height": 625
        },
        "outputId": "9ce812ce-280f-43ec-e4a4-a9b05fcc393f"
      },
      "execution_count": null,
      "outputs": [
        {
          "output_type": "stream",
          "name": "stderr",
          "text": [
            "/usr/local/lib/python3.7/dist-packages/ipykernel_launcher.py:2: FutureWarning: Treating datetime data as categorical rather than numeric in `.describe` is deprecated and will be removed in a future version of pandas. Specify `datetime_is_numeric=True` to silence this warning and adopt the future behavior now.\n",
            "  \n"
          ]
        },
        {
          "output_type": "execute_result",
          "data": {
            "text/plain": [
              "         duration_sec                  start_time                    end_time  \\\n",
              "count   183003.000000                      183003                      183003   \n",
              "unique            NaN                      182992                      182988   \n",
              "top               NaN  2019-02-06 21:35:57.574000  2019-02-11 18:53:55.082000   \n",
              "freq              NaN                           2                           2   \n",
              "first             NaN  2019-02-01 00:00:20.636000  2019-02-01 00:04:52.058000   \n",
              "last              NaN  2019-02-28 23:59:18.548000  2019-03-01 08:01:55.975000   \n",
              "mean       726.161801                         NaN                         NaN   \n",
              "std       1795.987632                         NaN                         NaN   \n",
              "min         61.000000                         NaN                         NaN   \n",
              "25%        325.000000                         NaN                         NaN   \n",
              "50%        514.000000                         NaN                         NaN   \n",
              "75%        796.000000                         NaN                         NaN   \n",
              "max      85444.000000                         NaN                         NaN   \n",
              "\n",
              "        start_station_id    start_station_name  end_station_id  \\\n",
              "count      183003.000000                183003   183003.000000   \n",
              "unique               NaN                   329             NaN   \n",
              "top                  NaN  Market St at 10th St             NaN   \n",
              "freq                 NaN                  3900             NaN   \n",
              "first                NaN                   NaN             NaN   \n",
              "last                 NaN                   NaN             NaN   \n",
              "mean          138.614974                   NaN      136.289651   \n",
              "std           111.782241                   NaN      111.532795   \n",
              "min             3.000000                   NaN        3.000000   \n",
              "25%            47.000000                   NaN       44.000000   \n",
              "50%           104.000000                   NaN      100.000000   \n",
              "75%           239.000000                   NaN      235.000000   \n",
              "max           398.000000                   NaN      398.000000   \n",
              "\n",
              "                                         end_station_name        bike_id  \\\n",
              "count                                              183003  183003.000000   \n",
              "unique                                                329            NaN   \n",
              "top     San Francisco Caltrain Station 2  (Townsend St...            NaN   \n",
              "freq                                                 4854            NaN   \n",
              "first                                                 NaN            NaN   \n",
              "last                                                  NaN            NaN   \n",
              "mean                                                  NaN    4473.061797   \n",
              "std                                                   NaN    1665.238411   \n",
              "min                                                   NaN      11.000000   \n",
              "25%                                                   NaN    3777.000000   \n",
              "50%                                                   NaN    4958.000000   \n",
              "75%                                                   NaN    5503.000000   \n",
              "max                                                   NaN    6645.000000   \n",
              "\n",
              "         user_type member_gender     member_age start_day  day_name  \\\n",
              "count       183003        183003  183003.000000    183003    183003   \n",
              "unique           2             3            NaN        28         7   \n",
              "top     Subscriber          Male            NaN        28  Thursday   \n",
              "freq        163215        130331            NaN      9816     35150   \n",
              "first          NaN           NaN            NaN       NaN       NaN   \n",
              "last           NaN           NaN            NaN       NaN       NaN   \n",
              "mean           NaN           NaN      37.114654       NaN       NaN   \n",
              "std            NaN           NaN       9.641281       NaN       NaN   \n",
              "min            NaN           NaN      21.000000       NaN       NaN   \n",
              "25%            NaN           NaN      30.000000       NaN       NaN   \n",
              "50%            NaN           NaN      35.000000       NaN       NaN   \n",
              "75%            NaN           NaN      41.000000       NaN       NaN   \n",
              "max            NaN           NaN      80.000000       NaN       NaN   \n",
              "\n",
              "       start_hour end_day end_hour  \n",
              "count      183003  183003   183003  \n",
              "unique         24      28       24  \n",
              "top            17      28       17  \n",
              "freq        21834    9817    21266  \n",
              "first         NaN     NaN      NaN  \n",
              "last          NaN     NaN      NaN  \n",
              "mean          NaN     NaN      NaN  \n",
              "std           NaN     NaN      NaN  \n",
              "min           NaN     NaN      NaN  \n",
              "25%           NaN     NaN      NaN  \n",
              "50%           NaN     NaN      NaN  \n",
              "75%           NaN     NaN      NaN  \n",
              "max           NaN     NaN      NaN  "
            ],
            "text/html": [
              "\n",
              "  <div id=\"df-f166f139-be50-4093-a501-8af08dd73767\">\n",
              "    <div class=\"colab-df-container\">\n",
              "      <div>\n",
              "<style scoped>\n",
              "    .dataframe tbody tr th:only-of-type {\n",
              "        vertical-align: middle;\n",
              "    }\n",
              "\n",
              "    .dataframe tbody tr th {\n",
              "        vertical-align: top;\n",
              "    }\n",
              "\n",
              "    .dataframe thead th {\n",
              "        text-align: right;\n",
              "    }\n",
              "</style>\n",
              "<table border=\"1\" class=\"dataframe\">\n",
              "  <thead>\n",
              "    <tr style=\"text-align: right;\">\n",
              "      <th></th>\n",
              "      <th>duration_sec</th>\n",
              "      <th>start_time</th>\n",
              "      <th>end_time</th>\n",
              "      <th>start_station_id</th>\n",
              "      <th>start_station_name</th>\n",
              "      <th>end_station_id</th>\n",
              "      <th>end_station_name</th>\n",
              "      <th>bike_id</th>\n",
              "      <th>user_type</th>\n",
              "      <th>member_gender</th>\n",
              "      <th>member_age</th>\n",
              "      <th>start_day</th>\n",
              "      <th>day_name</th>\n",
              "      <th>start_hour</th>\n",
              "      <th>end_day</th>\n",
              "      <th>end_hour</th>\n",
              "    </tr>\n",
              "  </thead>\n",
              "  <tbody>\n",
              "    <tr>\n",
              "      <th>count</th>\n",
              "      <td>183003.000000</td>\n",
              "      <td>183003</td>\n",
              "      <td>183003</td>\n",
              "      <td>183003.000000</td>\n",
              "      <td>183003</td>\n",
              "      <td>183003.000000</td>\n",
              "      <td>183003</td>\n",
              "      <td>183003.000000</td>\n",
              "      <td>183003</td>\n",
              "      <td>183003</td>\n",
              "      <td>183003.000000</td>\n",
              "      <td>183003</td>\n",
              "      <td>183003</td>\n",
              "      <td>183003</td>\n",
              "      <td>183003</td>\n",
              "      <td>183003</td>\n",
              "    </tr>\n",
              "    <tr>\n",
              "      <th>unique</th>\n",
              "      <td>NaN</td>\n",
              "      <td>182992</td>\n",
              "      <td>182988</td>\n",
              "      <td>NaN</td>\n",
              "      <td>329</td>\n",
              "      <td>NaN</td>\n",
              "      <td>329</td>\n",
              "      <td>NaN</td>\n",
              "      <td>2</td>\n",
              "      <td>3</td>\n",
              "      <td>NaN</td>\n",
              "      <td>28</td>\n",
              "      <td>7</td>\n",
              "      <td>24</td>\n",
              "      <td>28</td>\n",
              "      <td>24</td>\n",
              "    </tr>\n",
              "    <tr>\n",
              "      <th>top</th>\n",
              "      <td>NaN</td>\n",
              "      <td>2019-02-06 21:35:57.574000</td>\n",
              "      <td>2019-02-11 18:53:55.082000</td>\n",
              "      <td>NaN</td>\n",
              "      <td>Market St at 10th St</td>\n",
              "      <td>NaN</td>\n",
              "      <td>San Francisco Caltrain Station 2  (Townsend St...</td>\n",
              "      <td>NaN</td>\n",
              "      <td>Subscriber</td>\n",
              "      <td>Male</td>\n",
              "      <td>NaN</td>\n",
              "      <td>28</td>\n",
              "      <td>Thursday</td>\n",
              "      <td>17</td>\n",
              "      <td>28</td>\n",
              "      <td>17</td>\n",
              "    </tr>\n",
              "    <tr>\n",
              "      <th>freq</th>\n",
              "      <td>NaN</td>\n",
              "      <td>2</td>\n",
              "      <td>2</td>\n",
              "      <td>NaN</td>\n",
              "      <td>3900</td>\n",
              "      <td>NaN</td>\n",
              "      <td>4854</td>\n",
              "      <td>NaN</td>\n",
              "      <td>163215</td>\n",
              "      <td>130331</td>\n",
              "      <td>NaN</td>\n",
              "      <td>9816</td>\n",
              "      <td>35150</td>\n",
              "      <td>21834</td>\n",
              "      <td>9817</td>\n",
              "      <td>21266</td>\n",
              "    </tr>\n",
              "    <tr>\n",
              "      <th>first</th>\n",
              "      <td>NaN</td>\n",
              "      <td>2019-02-01 00:00:20.636000</td>\n",
              "      <td>2019-02-01 00:04:52.058000</td>\n",
              "      <td>NaN</td>\n",
              "      <td>NaN</td>\n",
              "      <td>NaN</td>\n",
              "      <td>NaN</td>\n",
              "      <td>NaN</td>\n",
              "      <td>NaN</td>\n",
              "      <td>NaN</td>\n",
              "      <td>NaN</td>\n",
              "      <td>NaN</td>\n",
              "      <td>NaN</td>\n",
              "      <td>NaN</td>\n",
              "      <td>NaN</td>\n",
              "      <td>NaN</td>\n",
              "    </tr>\n",
              "    <tr>\n",
              "      <th>last</th>\n",
              "      <td>NaN</td>\n",
              "      <td>2019-02-28 23:59:18.548000</td>\n",
              "      <td>2019-03-01 08:01:55.975000</td>\n",
              "      <td>NaN</td>\n",
              "      <td>NaN</td>\n",
              "      <td>NaN</td>\n",
              "      <td>NaN</td>\n",
              "      <td>NaN</td>\n",
              "      <td>NaN</td>\n",
              "      <td>NaN</td>\n",
              "      <td>NaN</td>\n",
              "      <td>NaN</td>\n",
              "      <td>NaN</td>\n",
              "      <td>NaN</td>\n",
              "      <td>NaN</td>\n",
              "      <td>NaN</td>\n",
              "    </tr>\n",
              "    <tr>\n",
              "      <th>mean</th>\n",
              "      <td>726.161801</td>\n",
              "      <td>NaN</td>\n",
              "      <td>NaN</td>\n",
              "      <td>138.614974</td>\n",
              "      <td>NaN</td>\n",
              "      <td>136.289651</td>\n",
              "      <td>NaN</td>\n",
              "      <td>4473.061797</td>\n",
              "      <td>NaN</td>\n",
              "      <td>NaN</td>\n",
              "      <td>37.114654</td>\n",
              "      <td>NaN</td>\n",
              "      <td>NaN</td>\n",
              "      <td>NaN</td>\n",
              "      <td>NaN</td>\n",
              "      <td>NaN</td>\n",
              "    </tr>\n",
              "    <tr>\n",
              "      <th>std</th>\n",
              "      <td>1795.987632</td>\n",
              "      <td>NaN</td>\n",
              "      <td>NaN</td>\n",
              "      <td>111.782241</td>\n",
              "      <td>NaN</td>\n",
              "      <td>111.532795</td>\n",
              "      <td>NaN</td>\n",
              "      <td>1665.238411</td>\n",
              "      <td>NaN</td>\n",
              "      <td>NaN</td>\n",
              "      <td>9.641281</td>\n",
              "      <td>NaN</td>\n",
              "      <td>NaN</td>\n",
              "      <td>NaN</td>\n",
              "      <td>NaN</td>\n",
              "      <td>NaN</td>\n",
              "    </tr>\n",
              "    <tr>\n",
              "      <th>min</th>\n",
              "      <td>61.000000</td>\n",
              "      <td>NaN</td>\n",
              "      <td>NaN</td>\n",
              "      <td>3.000000</td>\n",
              "      <td>NaN</td>\n",
              "      <td>3.000000</td>\n",
              "      <td>NaN</td>\n",
              "      <td>11.000000</td>\n",
              "      <td>NaN</td>\n",
              "      <td>NaN</td>\n",
              "      <td>21.000000</td>\n",
              "      <td>NaN</td>\n",
              "      <td>NaN</td>\n",
              "      <td>NaN</td>\n",
              "      <td>NaN</td>\n",
              "      <td>NaN</td>\n",
              "    </tr>\n",
              "    <tr>\n",
              "      <th>25%</th>\n",
              "      <td>325.000000</td>\n",
              "      <td>NaN</td>\n",
              "      <td>NaN</td>\n",
              "      <td>47.000000</td>\n",
              "      <td>NaN</td>\n",
              "      <td>44.000000</td>\n",
              "      <td>NaN</td>\n",
              "      <td>3777.000000</td>\n",
              "      <td>NaN</td>\n",
              "      <td>NaN</td>\n",
              "      <td>30.000000</td>\n",
              "      <td>NaN</td>\n",
              "      <td>NaN</td>\n",
              "      <td>NaN</td>\n",
              "      <td>NaN</td>\n",
              "      <td>NaN</td>\n",
              "    </tr>\n",
              "    <tr>\n",
              "      <th>50%</th>\n",
              "      <td>514.000000</td>\n",
              "      <td>NaN</td>\n",
              "      <td>NaN</td>\n",
              "      <td>104.000000</td>\n",
              "      <td>NaN</td>\n",
              "      <td>100.000000</td>\n",
              "      <td>NaN</td>\n",
              "      <td>4958.000000</td>\n",
              "      <td>NaN</td>\n",
              "      <td>NaN</td>\n",
              "      <td>35.000000</td>\n",
              "      <td>NaN</td>\n",
              "      <td>NaN</td>\n",
              "      <td>NaN</td>\n",
              "      <td>NaN</td>\n",
              "      <td>NaN</td>\n",
              "    </tr>\n",
              "    <tr>\n",
              "      <th>75%</th>\n",
              "      <td>796.000000</td>\n",
              "      <td>NaN</td>\n",
              "      <td>NaN</td>\n",
              "      <td>239.000000</td>\n",
              "      <td>NaN</td>\n",
              "      <td>235.000000</td>\n",
              "      <td>NaN</td>\n",
              "      <td>5503.000000</td>\n",
              "      <td>NaN</td>\n",
              "      <td>NaN</td>\n",
              "      <td>41.000000</td>\n",
              "      <td>NaN</td>\n",
              "      <td>NaN</td>\n",
              "      <td>NaN</td>\n",
              "      <td>NaN</td>\n",
              "      <td>NaN</td>\n",
              "    </tr>\n",
              "    <tr>\n",
              "      <th>max</th>\n",
              "      <td>85444.000000</td>\n",
              "      <td>NaN</td>\n",
              "      <td>NaN</td>\n",
              "      <td>398.000000</td>\n",
              "      <td>NaN</td>\n",
              "      <td>398.000000</td>\n",
              "      <td>NaN</td>\n",
              "      <td>6645.000000</td>\n",
              "      <td>NaN</td>\n",
              "      <td>NaN</td>\n",
              "      <td>80.000000</td>\n",
              "      <td>NaN</td>\n",
              "      <td>NaN</td>\n",
              "      <td>NaN</td>\n",
              "      <td>NaN</td>\n",
              "      <td>NaN</td>\n",
              "    </tr>\n",
              "  </tbody>\n",
              "</table>\n",
              "</div>\n",
              "      <button class=\"colab-df-convert\" onclick=\"convertToInteractive('df-f166f139-be50-4093-a501-8af08dd73767')\"\n",
              "              title=\"Convert this dataframe to an interactive table.\"\n",
              "              style=\"display:none;\">\n",
              "        \n",
              "  <svg xmlns=\"http://www.w3.org/2000/svg\" height=\"24px\"viewBox=\"0 0 24 24\"\n",
              "       width=\"24px\">\n",
              "    <path d=\"M0 0h24v24H0V0z\" fill=\"none\"/>\n",
              "    <path d=\"M18.56 5.44l.94 2.06.94-2.06 2.06-.94-2.06-.94-.94-2.06-.94 2.06-2.06.94zm-11 1L8.5 8.5l.94-2.06 2.06-.94-2.06-.94L8.5 2.5l-.94 2.06-2.06.94zm10 10l.94 2.06.94-2.06 2.06-.94-2.06-.94-.94-2.06-.94 2.06-2.06.94z\"/><path d=\"M17.41 7.96l-1.37-1.37c-.4-.4-.92-.59-1.43-.59-.52 0-1.04.2-1.43.59L10.3 9.45l-7.72 7.72c-.78.78-.78 2.05 0 2.83L4 21.41c.39.39.9.59 1.41.59.51 0 1.02-.2 1.41-.59l7.78-7.78 2.81-2.81c.8-.78.8-2.07 0-2.86zM5.41 20L4 18.59l7.72-7.72 1.47 1.35L5.41 20z\"/>\n",
              "  </svg>\n",
              "      </button>\n",
              "      \n",
              "  <style>\n",
              "    .colab-df-container {\n",
              "      display:flex;\n",
              "      flex-wrap:wrap;\n",
              "      gap: 12px;\n",
              "    }\n",
              "\n",
              "    .colab-df-convert {\n",
              "      background-color: #E8F0FE;\n",
              "      border: none;\n",
              "      border-radius: 50%;\n",
              "      cursor: pointer;\n",
              "      display: none;\n",
              "      fill: #1967D2;\n",
              "      height: 32px;\n",
              "      padding: 0 0 0 0;\n",
              "      width: 32px;\n",
              "    }\n",
              "\n",
              "    .colab-df-convert:hover {\n",
              "      background-color: #E2EBFA;\n",
              "      box-shadow: 0px 1px 2px rgba(60, 64, 67, 0.3), 0px 1px 3px 1px rgba(60, 64, 67, 0.15);\n",
              "      fill: #174EA6;\n",
              "    }\n",
              "\n",
              "    [theme=dark] .colab-df-convert {\n",
              "      background-color: #3B4455;\n",
              "      fill: #D2E3FC;\n",
              "    }\n",
              "\n",
              "    [theme=dark] .colab-df-convert:hover {\n",
              "      background-color: #434B5C;\n",
              "      box-shadow: 0px 1px 3px 1px rgba(0, 0, 0, 0.15);\n",
              "      filter: drop-shadow(0px 1px 2px rgba(0, 0, 0, 0.3));\n",
              "      fill: #FFFFFF;\n",
              "    }\n",
              "  </style>\n",
              "\n",
              "      <script>\n",
              "        const buttonEl =\n",
              "          document.querySelector('#df-f166f139-be50-4093-a501-8af08dd73767 button.colab-df-convert');\n",
              "        buttonEl.style.display =\n",
              "          google.colab.kernel.accessAllowed ? 'block' : 'none';\n",
              "\n",
              "        async function convertToInteractive(key) {\n",
              "          const element = document.querySelector('#df-f166f139-be50-4093-a501-8af08dd73767');\n",
              "          const dataTable =\n",
              "            await google.colab.kernel.invokeFunction('convertToInteractive',\n",
              "                                                     [key], {});\n",
              "          if (!dataTable) return;\n",
              "\n",
              "          const docLinkHtml = 'Like what you see? Visit the ' +\n",
              "            '<a target=\"_blank\" href=https://colab.research.google.com/notebooks/data_table.ipynb>data table notebook</a>'\n",
              "            + ' to learn more about interactive tables.';\n",
              "          element.innerHTML = '';\n",
              "          dataTable['output_type'] = 'display_data';\n",
              "          await google.colab.output.renderOutput(dataTable, element);\n",
              "          const docLink = document.createElement('div');\n",
              "          docLink.innerHTML = docLinkHtml;\n",
              "          element.appendChild(docLink);\n",
              "        }\n",
              "      </script>\n",
              "    </div>\n",
              "  </div>\n",
              "  "
            ]
          },
          "metadata": {},
          "execution_count": 33
        }
      ]
    },
    {
      "cell_type": "code",
      "source": [
        "#isnull().sum() to show the sum of null values in each colomn\n",
        "data.isnull().sum()"
      ],
      "metadata": {
        "colab": {
          "base_uri": "https://localhost:8080/"
        },
        "id": "LthBZiaOFVo8",
        "outputId": "8129b81e-0fee-4be6-f0f2-2c5dcf2e9ac7"
      },
      "execution_count": null,
      "outputs": [
        {
          "output_type": "execute_result",
          "data": {
            "text/plain": [
              "duration_sec          0\n",
              "start_time            0\n",
              "end_time              0\n",
              "start_station_id      0\n",
              "start_station_name    0\n",
              "end_station_id        0\n",
              "end_station_name      0\n",
              "bike_id               0\n",
              "user_type             0\n",
              "member_gender         0\n",
              "member_age            0\n",
              "start_day             0\n",
              "day_name              0\n",
              "start_hour            0\n",
              "end_day               0\n",
              "end_hour              0\n",
              "dtype: int64"
            ]
          },
          "metadata": {},
          "execution_count": 34
        }
      ]
    },
    {
      "cell_type": "code",
      "source": [
        "#data types \n",
        "data.dtypes"
      ],
      "metadata": {
        "colab": {
          "base_uri": "https://localhost:8080/"
        },
        "id": "fA9kD4rFFZmc",
        "outputId": "f896ffd3-e181-45b9-f50f-6b360fc718c9"
      },
      "execution_count": null,
      "outputs": [
        {
          "output_type": "execute_result",
          "data": {
            "text/plain": [
              "duration_sec                   int64\n",
              "start_time            datetime64[ns]\n",
              "end_time              datetime64[ns]\n",
              "start_station_id               int64\n",
              "start_station_name            object\n",
              "end_station_id                 int64\n",
              "end_station_name              object\n",
              "bike_id                        int64\n",
              "user_type                   category\n",
              "member_gender               category\n",
              "member_age                     int64\n",
              "start_day                     object\n",
              "day_name                      object\n",
              "start_hour                    object\n",
              "end_day                       object\n",
              "end_hour                      object\n",
              "dtype: object"
            ]
          },
          "metadata": {},
          "execution_count": 35
        }
      ]
    },
    {
      "cell_type": "code",
      "source": [
        "#count unique values in each column\n",
        "data.nunique()"
      ],
      "metadata": {
        "colab": {
          "base_uri": "https://localhost:8080/"
        },
        "id": "C0jMeYy4EfGo",
        "outputId": "96550463-e5c5-498a-d82e-b99c35e307f0"
      },
      "execution_count": null,
      "outputs": [
        {
          "output_type": "execute_result",
          "data": {
            "text/plain": [
              "duration_sec            4747\n",
              "start_time            182992\n",
              "end_time              182988\n",
              "start_station_id         329\n",
              "start_station_name       329\n",
              "end_station_id           329\n",
              "end_station_name         329\n",
              "bike_id                 4618\n",
              "user_type                  2\n",
              "member_gender              3\n",
              "member_age                60\n",
              "start_day                 28\n",
              "day_name                   7\n",
              "start_hour                24\n",
              "end_day                   28\n",
              "end_hour                  24\n",
              "dtype: int64"
            ]
          },
          "metadata": {},
          "execution_count": 36
        }
      ]
    },
    {
      "cell_type": "markdown",
      "source": [
        "# STEP5: **Analysis Phase**\n",
        "In this phase, we will use tow methods to answer our questions, and these methods are:\n",
        "* **Exploratory Analysis**\n",
        "* **Visual Analysis** \n",
        "\n",
        "But first, we need to define our questions.\n",
        "\n",
        "# Questions\n",
        "\n",
        "> ### Uni\n",
        "1. How much is the daily bike usage?\n",
        "4. What are the Popular start&end station names?\n",
        "5. Which is the user type that rents bikes the most?\n",
        "6. What are the ages of the most rented bikes users?\n",
        "7. What is the gender of the most rented bikes user?\n",
        "8. What are the days of week are most rented by users?\n",
        "9. Average usage of bikes?\n",
        "\n",
        "> ### Bi\n",
        "1. The daily usage of bikes based on User Type?\n",
        "9. What are the ages of the most rented users of bikes based on gender?\n",
        "10. What is the gender most rented based on user type?\n",
        "11. What are the most active hours for each day of the week?\n",
        "11. What is the Popular start stations name based on user type?\n",
        "\n",
        "> ### Multi \n",
        "1. The daily usage of bikes based on User Type and Member Gender?\n",
        "12. What is the Popular start stations name based on user type and gender?\n",
        "13. What is the Trip Duration based on user type and gender?\n",
        "\n",
        "\n",
        "**Now, Let’s Start Answering these questions**"
      ],
      "metadata": {
        "id": "t-PMcOwzP8HZ"
      }
    },
    {
      "cell_type": "markdown",
      "source": [
        "---"
      ],
      "metadata": {
        "id": "UT63H2McQE7w"
      }
    },
    {
      "cell_type": "markdown",
      "source": [
        "> ### Method 1: **Exploratory Analysis**\n",
        "Popular functions used in this method:\n",
        "* **value_counts()**\n",
        "* **groupby()**\n",
        "* **pivot_table()**\n",
        "* **query()**\n",
        "* **Logical operators**\n",
        "\n",
        "**In this method will answring the following questions:-**\n",
        "1. How much is the daily bike usage?\n",
        "2. The daily usage of bikes based on User Type?\n",
        "5. Which is the user type that rents bikes the most?\n",
        "4. What are the Popular start&end station names?\n",
        "6. What are the ages of the most rented bikes users?\n",
        "8. What are the days of week are most rented by users?\n"
      ],
      "metadata": {
        "id": "555rXCXZQJek"
      }
    },
    {
      "cell_type": "markdown",
      "source": [
        "#### 1. First Question: How much is the daily bike usage?"
      ],
      "metadata": {
        "id": "BMhqhe_BcNll"
      }
    },
    {
      "cell_type": "code",
      "source": [
        "data['start_day'].value_counts().sort_index(ascending=True) #sort index to display the days in asc order"
      ],
      "metadata": {
        "colab": {
          "base_uri": "https://localhost:8080/"
        },
        "id": "V2n5MSVjg6Pz",
        "outputId": "1a18068d-ad3d-4b6f-d8b7-4d61acb595ca"
      },
      "execution_count": null,
      "outputs": [
        {
          "output_type": "execute_result",
          "data": {
            "text/plain": [
              "01    6123\n",
              "02    3228\n",
              "03    2837\n",
              "04    5489\n",
              "05    8478\n",
              "06    9044\n",
              "07    9223\n",
              "08    6349\n",
              "09    2721\n",
              "10    3949\n",
              "11    8658\n",
              "12    8456\n",
              "13    3197\n",
              "14    6592\n",
              "15    7281\n",
              "16    3988\n",
              "17    4211\n",
              "18    5603\n",
              "19    9447\n",
              "20    9632\n",
              "21    9519\n",
              "22    9165\n",
              "23    5432\n",
              "24    4486\n",
              "25    7004\n",
              "26    5371\n",
              "27    7704\n",
              "28    9816\n",
              "Name: start_day, dtype: int64"
            ]
          },
          "metadata": {},
          "execution_count": 37
        }
      ]
    },
    {
      "cell_type": "markdown",
      "source": [
        "#### 2. Second Question: The daily usage of bikes based on User Type?"
      ],
      "metadata": {
        "id": "TgrsQnTbMCCD"
      }
    },
    {
      "cell_type": "code",
      "source": [
        "data.groupby(['user_type'])['start_day'].value_counts() #group user type and count the days of each group"
      ],
      "metadata": {
        "id": "mJkC5nc0cMBH",
        "colab": {
          "base_uri": "https://localhost:8080/"
        },
        "outputId": "142ae7e1-094a-48da-a72f-734328d79d74"
      },
      "execution_count": null,
      "outputs": [
        {
          "output_type": "execute_result",
          "data": {
            "text/plain": [
              "user_type   start_day\n",
              "Customer    23           1139\n",
              "            22           1076\n",
              "            17           1024\n",
              "            18            999\n",
              "            21            984\n",
              "            28            979\n",
              "            20            967\n",
              "            19            862\n",
              "            24            841\n",
              "            07            827\n",
              "            15            782\n",
              "            16            721\n",
              "            06            719\n",
              "            11            701\n",
              "            12            689\n",
              "            05            686\n",
              "            10            646\n",
              "            14            591\n",
              "            08            585\n",
              "            27            580\n",
              "            01            578\n",
              "            25            576\n",
              "            02            498\n",
              "            04            449\n",
              "            03            380\n",
              "            09            366\n",
              "            26            352\n",
              "            13            191\n",
              "Subscriber  28           8837\n",
              "            20           8665\n",
              "            19           8585\n",
              "            21           8535\n",
              "            07           8396\n",
              "            06           8325\n",
              "            22           8089\n",
              "            11           7957\n",
              "            05           7792\n",
              "            12           7767\n",
              "            27           7124\n",
              "            15           6499\n",
              "            25           6428\n",
              "            14           6001\n",
              "            08           5764\n",
              "            01           5545\n",
              "            04           5040\n",
              "            26           5019\n",
              "            18           4604\n",
              "            23           4293\n",
              "            24           3645\n",
              "            10           3303\n",
              "            16           3267\n",
              "            17           3187\n",
              "            13           3006\n",
              "            02           2730\n",
              "            03           2457\n",
              "            09           2355\n",
              "Name: start_day, dtype: int64"
            ]
          },
          "metadata": {},
          "execution_count": 38
        }
      ]
    },
    {
      "cell_type": "markdown",
      "source": [
        "#### 3. Third Question: Which is the user type that rents bikes the most?"
      ],
      "metadata": {
        "id": "LqFCWJQ2MQvI"
      }
    },
    {
      "cell_type": "code",
      "source": [
        "data.groupby('user_type').size() #count rows in each group"
      ],
      "metadata": {
        "colab": {
          "base_uri": "https://localhost:8080/"
        },
        "id": "lEqnb8RWRDDt",
        "outputId": "a5f3f8bd-ee92-41d3-fe31-b7215777b964"
      },
      "execution_count": null,
      "outputs": [
        {
          "output_type": "execute_result",
          "data": {
            "text/plain": [
              "user_type\n",
              "Customer       19788\n",
              "Subscriber    163215\n",
              "dtype: int64"
            ]
          },
          "metadata": {},
          "execution_count": 39
        }
      ]
    },
    {
      "cell_type": "markdown",
      "source": [
        "#### 4. Forth Question: What are the Popular start&end station names?"
      ],
      "metadata": {
        "id": "L1JSUSaiFtZz"
      }
    },
    {
      "cell_type": "code",
      "source": [
        "data['start_station_name'].value_counts().iloc[:5] #iloc[] to display the first 5 rows which have the highest values"
      ],
      "metadata": {
        "colab": {
          "base_uri": "https://localhost:8080/"
        },
        "id": "q931xa6oFtiO",
        "outputId": "3723b2e1-9a26-4477-8b64-3fb6fe6c49cd"
      },
      "execution_count": null,
      "outputs": [
        {
          "output_type": "execute_result",
          "data": {
            "text/plain": [
              "Market St at 10th St                                         3900\n",
              "San Francisco Caltrain Station 2  (Townsend St at 4th St)    3529\n",
              "Berry St at 4th St                                           3050\n",
              "Montgomery St BART Station (Market St at 2nd St)             2893\n",
              "Powell St BART Station (Market St at 4th St)                 2760\n",
              "Name: start_station_name, dtype: int64"
            ]
          },
          "metadata": {},
          "execution_count": 40
        }
      ]
    },
    {
      "cell_type": "code",
      "source": [
        "data['end_station_name'].value_counts().iloc[:5]"
      ],
      "metadata": {
        "colab": {
          "base_uri": "https://localhost:8080/"
        },
        "id": "2a6xvCJjkk2x",
        "outputId": "fb81469c-0c76-4287-fa0e-e9efe3818b79"
      },
      "execution_count": null,
      "outputs": [
        {
          "output_type": "execute_result",
          "data": {
            "text/plain": [
              "San Francisco Caltrain Station 2  (Townsend St at 4th St)    4854\n",
              "Market St at 10th St                                         3966\n",
              "Montgomery St BART Station (Market St at 2nd St)             3646\n",
              "San Francisco Ferry Building (Harry Bridges Plaza)           3368\n",
              "Powell St BART Station (Market St at 4th St)                 2996\n",
              "Name: end_station_name, dtype: int64"
            ]
          },
          "metadata": {},
          "execution_count": 41
        }
      ]
    },
    {
      "cell_type": "markdown",
      "source": [
        "#### 5. Fifth Question: What are the ages of the most rented bikes users?"
      ],
      "metadata": {
        "id": "8aC206UyG7zw"
      }
    },
    {
      "cell_type": "code",
      "source": [
        "data['member_age'].value_counts() #count the unique values in member_age"
      ],
      "metadata": {
        "colab": {
          "base_uri": "https://localhost:8080/"
        },
        "id": "AsUqhApXG8Bh",
        "outputId": "17e9de0f-d7c0-4906-b610-4a6e1947f816"
      },
      "execution_count": null,
      "outputs": [
        {
          "output_type": "execute_result",
          "data": {
            "text/plain": [
              "37    15286\n",
              "34    10214\n",
              "29     9323\n",
              "33     8967\n",
              "32     8640\n",
              "31     8484\n",
              "30     8245\n",
              "35     8010\n",
              "36     7953\n",
              "28     7654\n",
              "27     7420\n",
              "38     6557\n",
              "39     5953\n",
              "42     5011\n",
              "40     4987\n",
              "26     4637\n",
              "41     4344\n",
              "43     3756\n",
              "25     3476\n",
              "24     3208\n",
              "44     2830\n",
              "45     2706\n",
              "48     2633\n",
              "23     2504\n",
              "47     2503\n",
              "46     2435\n",
              "49     2080\n",
              "54     1927\n",
              "51     1924\n",
              "50     1909\n",
              "22     1675\n",
              "52     1590\n",
              "57     1546\n",
              "53     1414\n",
              "55     1315\n",
              "58     1189\n",
              "59     1151\n",
              "56      989\n",
              "60      955\n",
              "61      821\n",
              "65      807\n",
              "62      806\n",
              "63      624\n",
              "64      517\n",
              "66      392\n",
              "68      301\n",
              "70      189\n",
              "71      180\n",
              "72      178\n",
              "69      158\n",
              "75      135\n",
              "67      134\n",
              "77      105\n",
              "73       99\n",
              "74       51\n",
              "21       34\n",
              "79       30\n",
              "80       21\n",
              "76       19\n",
              "78        2\n",
              "Name: member_age, dtype: int64"
            ]
          },
          "metadata": {},
          "execution_count": 42
        }
      ]
    },
    {
      "cell_type": "markdown",
      "source": [
        "#### 6. Sixth Question: What are the days of week are most rented by users?"
      ],
      "metadata": {
        "id": "9N3bUw8uH5Iw"
      }
    },
    {
      "cell_type": "code",
      "source": [
        "data['day_name'].value_counts() #count the unique values in member_age"
      ],
      "metadata": {
        "colab": {
          "base_uri": "https://localhost:8080/"
        },
        "id": "k0xBm-DUH5Ru",
        "outputId": "0dc0ec6d-341e-4bef-c9ed-5f17072d3e31"
      },
      "execution_count": null,
      "outputs": [
        {
          "output_type": "execute_result",
          "data": {
            "text/plain": [
              "Thursday     35150\n",
              "Tuesday      31752\n",
              "Wednesday    29577\n",
              "Friday       28918\n",
              "Monday       26754\n",
              "Sunday       15483\n",
              "Saturday     15369\n",
              "Name: day_name, dtype: int64"
            ]
          },
          "metadata": {},
          "execution_count": 43
        }
      ]
    },
    {
      "cell_type": "markdown",
      "source": [
        "> ### Method 2: **Visual Analysis** \n",
        "Important Charts for Visualisation:\n",
        "* **Histogram**\n",
        "* **Bar Chart**\n",
        "* **Pie Chart**\n",
        "* **Box Plot**\n",
        "* **Scatter Plot**\n",
        "* **Line Chart**\n"
      ],
      "metadata": {
        "id": "UB9wjyJBQMAj"
      }
    },
    {
      "cell_type": "markdown",
      "source": [
        "## Types of Visual Analysis:\n",
        "> ### Univariate Exploration\n",
        "~ **Univariate analysis** involves analysis of one variable at a time\n",
        "1. How much is the daily bike usage?\n",
        "4. What are the Popular start&end station names?\n",
        "5. Which is the user type that rents bikes the most?\n",
        "6. What are the ages of the most rented bikes users?\n",
        "7. What is the gender of the most rented bike user?\n",
        "8. What are the days of week are most rented by users?\n",
        "7. average usage of bikes?\n",
        "\n"
      ],
      "metadata": {
        "id": "CvmILR6pSu0K"
      }
    },
    {
      "cell_type": "markdown",
      "source": [
        "#### 1. First Question: How much is the daily bike usage?"
      ],
      "metadata": {
        "id": "qW2avi6lQOHc"
      }
    },
    {
      "cell_type": "code",
      "source": [
        "plt.figure(figsize=(15,5)) #set figure size\n",
        "sns.histplot(data=data, x=\"start_day\", binwidth=10)\n",
        "plt.title('The daily bike usage', fontsize=15) #set figure title\n",
        "plt.ylabel('Daily usage') #set y label\n",
        "plt.xlabel('Days of month') #set x label\n",
        "plt.show()"
      ],
      "metadata": {
        "colab": {
          "base_uri": "https://localhost:8080/",
          "height": 352
        },
        "id": "ckS1-g__QOSu",
        "outputId": "ff15dfcb-353d-4afb-9a58-2a20b4b884a0"
      },
      "execution_count": null,
      "outputs": [
        {
          "output_type": "display_data",
          "data": {
            "text/plain": [
              "<Figure size 1080x360 with 1 Axes>"
            ],
            "image/png": "[encoded data removed]"
          },
          "metadata": {
            "needs_background": "light"
          }
        }
      ]
    },
    {
      "cell_type": "markdown",
      "source": [
        "*According to this graph the maximum bike rides are taken from 05 to 07 and 11,12 , from 19 to 22 and 28 of the month*"
      ],
      "metadata": {
        "id": "9hws0AggAJo6"
      }
    },
    {
      "cell_type": "markdown",
      "source": [
        "#### 2. Second Question: What are the Popular start&end station names?"
      ],
      "metadata": {
        "id": "b4_ct4rIQOgi"
      }
    },
    {
      "cell_type": "code",
      "source": [
        "plt.figure(figsize=(15,10))\n",
        "plt.subplot(2,1,1) \n",
        "ax1 = sns.countplot(y ='start_station_name', data = data, order=data.start_station_name.value_counts().iloc[:5].index)\n",
        "plt.subplot(2, 1, 2)\n",
        "ax2 = sns.countplot(y ='end_station_name', data = data, order=data.end_station_name.value_counts().iloc[:5].index)\n",
        "plt.suptitle('The Popular start&end stations name', fontsize=15)\n",
        "ax1.set_title('Start station names')\n",
        "ax2.set_title('End station names')\n",
        "plt.show()"
      ],
      "metadata": {
        "colab": {
          "base_uri": "https://localhost:8080/",
          "height": 677
        },
        "id": "T7htTVclQOri",
        "outputId": "67fdabf5-311f-4cba-db83-9431aaf8053a"
      },
      "execution_count": null,
      "outputs": [
        {
          "output_type": "display_data",
          "data": {
            "text/plain": [
              "<Figure size 1080x720 with 2 Axes>"
            ],
            "image/png": "[encoded data removed]"
          },
          "metadata": {
            "needs_background": "light"
          }
        }
      ]
    },
    {
      "cell_type": "markdown",
      "source": [
        "*here we can see the top 5 start station names and end station names that most users begin and end their rides* "
      ],
      "metadata": {
        "id": "z3fzwLZ_QRmF"
      }
    },
    {
      "cell_type": "markdown",
      "source": [
        "#### 3. Third Question: Which is the user type that rents bikes the most?"
      ],
      "metadata": {
        "id": "2wmYLfm9U3j8"
      }
    },
    {
      "cell_type": "code",
      "source": [
        "plt.bar(x=data.user_type.value_counts().keys(), height=data.user_type.value_counts(), color=['goldenrod', 'brown'])\n",
        "plt.title('Number of user types', fontsize=15)\n",
        "plt.ylabel('Number of users')\n",
        "plt.xlabel('User type')\n",
        "plt.show()"
      ],
      "metadata": {
        "colab": {
          "base_uri": "https://localhost:8080/",
          "height": 297
        },
        "id": "XvX8gwbgU2A7",
        "outputId": "960ac5aa-7b32-4805-b595-ee5d0119976a"
      },
      "execution_count": null,
      "outputs": [
        {
          "output_type": "display_data",
          "data": {
            "text/plain": [
              "<Figure size 432x288 with 1 Axes>"
            ],
            "image/png": "[encoded data removed]"
          },
          "metadata": {
            "needs_background": "light"
          }
        }
      ]
    },
    {
      "cell_type": "code",
      "source": [
        "user_types = data['user_type'].value_counts()\n",
        "explode = (0, 0.2) #explode to stand out slice\n",
        "ax = user_types.plot(kind='pie', autopct = '%1.1f%%', explode=explode, colors = ['goldenrod', 'brown'], #autopct: to set the percentage \n",
        "                     figsize=(6,6), fontsize=15, shadow=True, wedgeprops={'edgecolor': 'black'})\n",
        "ax.set_title(\"Number of user types\", fontsize=20)\n",
        "plt.show()"
      ],
      "metadata": {
        "colab": {
          "base_uri": "https://localhost:8080/",
          "height": 378
        },
        "id": "3OVAxGDFP7Id",
        "outputId": "de0cf722-a62a-485c-a237-2d38304c528c"
      },
      "execution_count": null,
      "outputs": [
        {
          "output_type": "display_data",
          "data": {
            "text/plain": [
              "<Figure size 432x432 with 1 Axes>"
            ],
            "image/png": "[encoded data removed]"
          },
          "metadata": {}
        }
      ]
    },
    {
      "cell_type": "markdown",
      "source": [
        "*From this two graphs it is clearly visible that there more subscriber than customer*"
      ],
      "metadata": {
        "id": "1OFCIk7UBPy0"
      }
    },
    {
      "cell_type": "markdown",
      "source": [
        "#### 4. Forth Question: What are the ages of the most rented bikes users?"
      ],
      "metadata": {
        "id": "v8D2dvtCQ8KJ"
      }
    },
    {
      "cell_type": "code",
      "source": [
        "plt.figure(figsize=(10,8))\n",
        "sns.histplot(data=data, x=\"member_age\", binwidth=2, color='dimgrey')\n",
        "plt.title('The ages of the most rented bikes users', fontsize=15)\n",
        "plt.ylabel('Daily usage')\n",
        "plt.xlabel('User ages')\n",
        "plt.show()"
      ],
      "metadata": {
        "colab": {
          "base_uri": "https://localhost:8080/",
          "height": 515
        },
        "id": "o5-iXlztQ8Rp",
        "outputId": "687d5933-17f0-47a6-d01d-0882e95b1220"
      },
      "execution_count": null,
      "outputs": [
        {
          "output_type": "display_data",
          "data": {
            "text/plain": [
              "<Figure size 720x576 with 1 Axes>"
            ],
            "image/png": "[encoded data removed]"
          },
          "metadata": {
            "needs_background": "light"
          }
        }
      ]
    },
    {
      "cell_type": "markdown",
      "source": [
        "*The age of users are around 27 to 40 years*"
      ],
      "metadata": {
        "id": "BszNZ88fQ1nr"
      }
    },
    {
      "cell_type": "markdown",
      "source": [
        "#### 5. Fifth Question: What is the gender of the most rented bike user?"
      ],
      "metadata": {
        "id": "0XKROleNQ8Z4"
      }
    },
    {
      "cell_type": "code",
      "source": [
        "plt.bar(x=data.member_gender.value_counts().keys(), height=data.member_gender.value_counts(), color=['blue', 'deeppink', 'green'])\n",
        "plt.title('Number of user types', fontsize=15)\n",
        "plt.ylabel('Number of users')\n",
        "plt.xlabel('member gender')\n",
        "plt.show()"
      ],
      "metadata": {
        "id": "1Xzy3gYfQ8ig",
        "colab": {
          "base_uri": "https://localhost:8080/",
          "height": 297
        },
        "outputId": "75c517ad-862b-45ca-fa10-3963220deb5b"
      },
      "execution_count": null,
      "outputs": [
        {
          "output_type": "display_data",
          "data": {
            "text/plain": [
              "<Figure size 432x288 with 1 Axes>"
            ],
            "image/png": "[encoded data removed]"
          },
          "metadata": {
            "needs_background": "light"
          }
        }
      ]
    },
    {
      "cell_type": "markdown",
      "source": [
        "*There are more than 120 thousand male riders and only 40 thousand are female riders*"
      ],
      "metadata": {
        "id": "UKly2YbZBrX5"
      }
    },
    {
      "cell_type": "markdown",
      "source": [
        "#### 6. Sixth Question: What are the days of week are most rented by users?"
      ],
      "metadata": {
        "id": "_LN9UR9-Q-y6"
      }
    },
    {
      "cell_type": "code",
      "source": [
        "plt.figure(figsize=(10,5))\n",
        "ax = sns.countplot(x=\"day_name\", data=data, palette='ch:start=.2,rot=-.3', order = data['day_name'].value_counts().index)\n",
        "for p in ax.patches:\n",
        "    ax.annotate('{:.0f}'.format(p.get_height()),(p.get_x()+p.get_width()/2, p.get_height()), ha='center', va='bottom', color = \"black\", size=12)\n",
        "plt.title('The days of week are most rented by users', fontsize=15)\n",
        "plt.show()"
      ],
      "metadata": {
        "id": "jRSOIUIyRACb",
        "colab": {
          "base_uri": "https://localhost:8080/",
          "height": 353
        },
        "outputId": "58dd7266-66eb-4c00-a633-11a6b5439dc3"
      },
      "execution_count": null,
      "outputs": [
        {
          "output_type": "display_data",
          "data": {
            "text/plain": [
              "<Figure size 720x360 with 1 Axes>"
            ],
            "image/png": "[encoded data removed]"
          },
          "metadata": {
            "needs_background": "light"
          }
        }
      ]
    },
    {
      "cell_type": "markdown",
      "source": [
        "*Most rides are done on Thursday also on Tuesday*\n",
        "\n",
        "*Most rides are done on weekdays*"
      ],
      "metadata": {
        "id": "4wFO9ptgCh33"
      }
    },
    {
      "cell_type": "markdown",
      "source": [
        "#### 7. seventh Question: Average usage of bikes?"
      ],
      "metadata": {
        "id": "SDUnbRtbUYUz"
      }
    },
    {
      "cell_type": "code",
      "source": [
        "plt.figure(figsize=(7,7))\n",
        "count = data['bike_id'].value_counts()\n",
        "ax=sns.violinplot(y = count)\n",
        "plt.title('Number of Times a Bike is Used')\n",
        "plt.ylabel('Times Used')\n",
        "plt.show()"
      ],
      "metadata": {
        "colab": {
          "base_uri": "https://localhost:8080/",
          "height": 431
        },
        "id": "RBRUNP3TUXIY",
        "outputId": "97aa7547-fd5d-4771-f25b-3a2abbf332ac"
      },
      "execution_count": null,
      "outputs": [
        {
          "output_type": "display_data",
          "data": {
            "text/plain": [
              "<Figure size 504x504 with 1 Axes>"
            ],
            "image/png": "[encoded data removed]"
          },
          "metadata": {
            "needs_background": "light"
          }
        }
      ]
    },
    {
      "cell_type": "markdown",
      "source": [
        "Most bikes used between 0 to 50 times."
      ],
      "metadata": {
        "id": "BTiBvccrnQWY"
      }
    },
    {
      "cell_type": "markdown",
      "source": [
        "> ### Bivariate Exploration\n",
        "~ **Bivariate analysis** is finding some kind of empirical relationship between two variables\n",
        "1. The daily usage of bikes based on User Type?\n",
        "9. What are the ages of the most rented users of bikes based on gender?\n",
        "10. What is the gender most rented based on user type?\n",
        "11. What is the Popular start station names based on user type?\n",
        "12. What are the most active hours for each day of the week?\n"
      ],
      "metadata": {
        "id": "NgEot7VySxRP"
      }
    },
    {
      "cell_type": "markdown",
      "source": [
        "#### 1. First Question: The daily usage of bikes based on User Type?"
      ],
      "metadata": {
        "id": "LQEsgL38Qt_s"
      }
    },
    {
      "cell_type": "code",
      "source": [
        "plt.figure(figsize=(15,5))\n",
        "ax = sns.histplot(data=data, x=\"start_day\", hue=\"user_type\", multiple = 'stack')\n",
        "plt.title('The daily usage of bikes based on User Type', fontsize=15)\n",
        "plt.ylabel('Number of users')\n",
        "plt.xlabel('Days')\n",
        "plt.show()"
      ],
      "metadata": {
        "id": "V6M-WZ96QuI-",
        "colab": {
          "base_uri": "https://localhost:8080/",
          "height": 357
        },
        "outputId": "a6789c0c-529e-444a-e98b-f24b0153ffdd"
      },
      "execution_count": null,
      "outputs": [
        {
          "output_type": "display_data",
          "data": {
            "text/plain": [
              "<Figure size 1080x360 with 1 Axes>"
            ],
            "image/png": "[encoded data removed]"
          },
          "metadata": {}
        }
      ]
    },
    {
      "cell_type": "markdown",
      "source": [
        "*The most riders are subscriber and they done there rides on the 6th, 7th and fron 19th to 22th also on 28th of the month*"
      ],
      "metadata": {
        "id": "HRpYOYMnC3tZ"
      }
    },
    {
      "cell_type": "markdown",
      "source": [
        "#### 2. Second Question: What are the ages of the most rented users of bikes based on gender?"
      ],
      "metadata": {
        "id": "yhgx1YLVQuUW"
      }
    },
    {
      "cell_type": "code",
      "source": [
        "plt.figure(figsize=(15,5))\n",
        "sns.histplot(data=data, x=\"member_age\", hue=\"member_gender\", binwidth=2, color='icefire')\n",
        "plt.title('The ages of the most rented users of bikes based on gende', fontsize=15)\n",
        "plt.ylabel('Number of users')\n",
        "plt.xlabel('Ages')\n",
        "plt.show()"
      ],
      "metadata": {
        "id": "1h5V_V1gQudo",
        "colab": {
          "base_uri": "https://localhost:8080/",
          "height": 352
        },
        "outputId": "1f28500c-e47d-4ff9-b265-5340b21d877b"
      },
      "execution_count": null,
      "outputs": [
        {
          "output_type": "display_data",
          "data": {
            "text/plain": [
              "<Figure size 1080x360 with 1 Axes>"
            ],
            "image/png": "[encoded data removed]"
          },
          "metadata": {
            "needs_background": "light"
          }
        }
      ]
    },
    {
      "cell_type": "markdown",
      "source": [
        "*The most riders are males and their age around 27 to 37*"
      ],
      "metadata": {
        "id": "6MmyKoY3Dbn6"
      }
    },
    {
      "cell_type": "markdown",
      "source": [
        "#### 3. Third Question: What is the gender most rented based on user type?"
      ],
      "metadata": {
        "id": "LSMzvTSlQqTQ"
      }
    },
    {
      "cell_type": "code",
      "source": [
        "plt.figure(figsize=(10,5))\n",
        "ax = sns.countplot(x=\"member_gender\", hue=\"user_type\", data=data, palette=\"YlOrBr\")\n",
        "plt.title('The gender most rented based on user type', fontsize=15)\n",
        "plt.ylabel('Number of users')\n",
        "plt.xlabel('member gender')\n",
        "plt.legend(title='User type') #set legend title\n",
        "plt.show()"
      ],
      "metadata": {
        "colab": {
          "base_uri": "https://localhost:8080/",
          "height": 352
        },
        "id": "rYlAcSNnQqZg",
        "outputId": "48729d47-2bcf-43c4-9dd6-0306792626b2"
      },
      "execution_count": null,
      "outputs": [
        {
          "output_type": "display_data",
          "data": {
            "text/plain": [
              "<Figure size 720x360 with 1 Axes>"
            ],
            "image/png": "[encoded data removed]"
          },
          "metadata": {
            "needs_background": "light"
          }
        }
      ]
    },
    {
      "cell_type": "markdown",
      "source": [
        "*The most riders are male subscribers*"
      ],
      "metadata": {
        "id": "9vH6ZwYdEEa9"
      }
    },
    {
      "cell_type": "markdown",
      "source": [
        "#### 4. Forth Question: What is the Popular start station names based on user type?"
      ],
      "metadata": {
        "id": "kK1Uhi6eQ4wH"
      }
    },
    {
      "cell_type": "code",
      "source": [
        "plt.figure(figsize=(15,5))\n",
        "sns.set_theme(style=\"darkgrid\") #set background color\n",
        "labels = data.start_station_name.value_counts().iloc[:10].index #save stations name in labels\n",
        "labels = [ '\\n'.join(wrap(l, 10)) for l in labels] #split the station name\n",
        "ax = sns.countplot(x=\"start_station_name\", hue=\"user_type\", data=data, palette=\"flare\",\n",
        "                   order=data.start_station_name.value_counts().iloc[:10].index) #order to display just first 10 rows\n",
        "plt.title('The Popular start station names based on user type', fontsize=15)\n",
        "ax.set_xticklabels(labels)\n",
        "ax.set_xlabel(\"Top 10 stations names\", fontsize = 15)\n",
        "ax.set_ylabel(\"Count\", fontsize = 15)\n",
        "plt.legend(title='User type') #set legend title\n",
        "plt.show()"
      ],
      "metadata": {
        "colab": {
          "base_uri": "https://localhost:8080/",
          "height": 429
        },
        "id": "_CKI7MoNQ44a",
        "outputId": "4452fb18-4eca-4e70-d063-0d8650ac9c20"
      },
      "execution_count": null,
      "outputs": [
        {
          "output_type": "display_data",
          "data": {
            "text/plain": [
              "<Figure size 1080x360 with 1 Axes>"
            ],
            "image/png": "[encoded data removed]"
          },
          "metadata": {
            "needs_background": "light"
          }
        }
      ]
    },
    {
      "cell_type": "markdown",
      "source": [
        "*Most of subscriber begin their rides at Market st*\n",
        "\n",
        "*Most of customer begin their rides at San Francisco Ferry Building*"
      ],
      "metadata": {
        "id": "cxvN3O6UR2HE"
      }
    },
    {
      "cell_type": "markdown",
      "source": [
        "#### 5. Fifth Question: What are the most active hours for each day of the week?"
      ],
      "metadata": {
        "id": "saOBSGO7v92f"
      }
    },
    {
      "cell_type": "code",
      "source": [
        "plt.figure(figsize=(15,10))\n",
        "x = data.pivot_table(index='start_hour', columns='day_name', aggfunc='size')\n",
        "sns.heatmap(x, annot=True, fmt=\"g\", cmap=\"inferno\") #annot to write data value in each cell - fmt is the format for the number - cmap the color map\n",
        "plt.title('The most active hours for each day of the week', fontsize=20)\n",
        "plt.xlabel('Weekday')\n",
        "plt.ylabel('Houres')\n",
        "plt.show()"
      ],
      "metadata": {
        "colab": {
          "base_uri": "https://localhost:8080/",
          "height": 632
        },
        "id": "X8j91xGz0ZEL",
        "outputId": "07c04dbe-bb89-40bf-8f9f-32b3c49bed56"
      },
      "execution_count": null,
      "outputs": [
        {
          "output_type": "display_data",
          "data": {
            "text/plain": [
              "<Figure size 1080x720 with 2 Axes>"
            ],
            "image/png": "[encoded data removed]"
          },
          "metadata": {}
        }
      ]
    },
    {
      "cell_type": "markdown",
      "source": [
        "*From this graph we can see that is the most rides are on working days at 08 am and 05 pm while at the weekend the rides are very few*"
      ],
      "metadata": {
        "id": "QZFs-dlnEZ5G"
      }
    },
    {
      "cell_type": "markdown",
      "source": [
        "> ### Multivariate Exploration\n",
        "~ **Multivariate analysis** is based on the observation and analysis of more than one variable at the same time\n",
        "1. The daily usage of bikes based on User Type and Member Gender?\n",
        "1. What is the Popular start stations name based on user type and gender?\n",
        "1. What is the Trip Duration based on user type and gender?"
      ],
      "metadata": {
        "id": "IBhIB2qSS0jY"
      }
    },
    {
      "cell_type": "markdown",
      "source": [
        "#### 1. First Question: The daily usage of bikes based on User Type and Member Gender?"
      ],
      "metadata": {
        "id": "RAsfYzMLQ5qv"
      }
    },
    {
      "cell_type": "code",
      "source": [
        "ax = sns.catplot(x=\"start_day\", hue=\"user_type\", col=\"member_gender\", data=data, kind=\"count\", height=5, aspect=3)\n",
        "ax.fig.set_size_inches(15,10)\n",
        "ax.set_xticklabels(rotation=90)\n",
        "ax.set_xlabels('Month Days', fontsize=10)\n",
        "ax.set_ylabels('Count', fontsize=10)\n",
        "sns.move_legend(ax, \"upper left\", title='User type')\n",
        "plt.show()"
      ],
      "metadata": {
        "id": "gfckRMv_Q5__",
        "colab": {
          "base_uri": "https://localhost:8080/",
          "height": 684
        },
        "outputId": "7cfc50d3-f12e-4957-a476-5f9ed96290e1"
      },
      "execution_count": null,
      "outputs": [
        {
          "output_type": "display_data",
          "data": {
            "text/plain": [
              "<Figure size 1080x720 with 3 Axes>"
            ],
            "image/png": "[encoded data removed]"
          },
          "metadata": {}
        }
      ]
    },
    {
      "cell_type": "markdown",
      "source": [
        "#### 2. Second Question: What is the Popular start stations name based on user type and gender?"
      ],
      "metadata": {
        "id": "c0f07XBtQ54v"
      }
    },
    {
      "cell_type": "code",
      "source": [
        "labels = data.start_station_name.value_counts().iloc[:10].index\n",
        "labels = [ '\\n'.join(wrap(l, 30)) for l in labels]\n",
        "ax = sns.catplot(x=\"start_station_name\", hue=\"member_gender\", col=\"user_type\", data=data, kind=\"count\",height=5, aspect=3, \n",
        "                 order=data.start_station_name.value_counts().iloc[:10].index)\n",
        "ax.fig.set_size_inches(15,10)\n",
        "sns.move_legend(ax, \"upper left\", title='Member gender')\n",
        "ax.set_xticklabels(labels, rotation=90)\n",
        "ax.set_xlabels('Stations name', fontsize=10)\n",
        "ax.set_ylabels('Count', fontsize=10)\n",
        "plt.show()"
      ],
      "metadata": {
        "id": "blF5ixSUQ5w-",
        "colab": {
          "base_uri": "https://localhost:8080/",
          "height": 841
        },
        "outputId": "74a02619-b1a7-4f92-8cc3-1645e2b55073"
      },
      "execution_count": null,
      "outputs": [
        {
          "output_type": "display_data",
          "data": {
            "text/plain": [
              "<Figure size 1080x720 with 2 Axes>"
            ],
            "image/png": "[encoded data removed]"
          },
          "metadata": {}
        }
      ]
    },
    {
      "cell_type": "markdown",
      "source": [
        "#### 3. Third Question: What is the Trip Duration based on user type and gender?"
      ],
      "metadata": {
        "id": "249ScCwVwqI3"
      }
    },
    {
      "cell_type": "code",
      "source": [
        "plt.figure(figsize = [10, 5])\n",
        "ax = sns.boxplot(data = data, x = 'member_gender', y = 'duration_sec', hue='user_type')\n",
        "plt.ylim([0, 2000]) #limit y axes (2000 sec is almost 30 min)\n",
        "plt.title('Trip Duration based on Gender and user type')\n",
        "plt.xlabel('Gender')\n",
        "plt.ylabel('Duration in sec')\n",
        "sns.move_legend(ax, \"lower left\", title='User type')\n",
        "plt.show()"
      ],
      "metadata": {
        "colab": {
          "base_uri": "https://localhost:8080/",
          "height": 355
        },
        "id": "Y2dM--HJvg5P",
        "outputId": "1595c612-12e4-4fd9-d8f5-03e6e447fadd"
      },
      "execution_count": null,
      "outputs": [
        {
          "output_type": "display_data",
          "data": {
            "text/plain": [
              "<Figure size 720x360 with 1 Axes>"
            ],
            "image/png": "[encoded data removed]"
          },
          "metadata": {}
        }
      ]
    },
    {
      "cell_type": "markdown",
      "source": [
        "*There is no difference in the member gender in terms of duration of the trip, they are all close.*\n",
        "\n",
        "*The customer takes a longer trip time than the subscriber, regardless of the customer's gender.*"
      ],
      "metadata": {
        "id": "TOIkGcHYGhgB"
      }
    }
  ],
  "metadata": {
    "kernelspec": {
      "display_name": "Python 3",
      "language": "python",
      "name": "python3"
    },
    "language_info": {
      "codemirror_mode": {
        "name": "ipython",
        "version": 3
      },
      "file_extension": ".py",
      "mimetype": "text/x-python",
      "name": "python",
      "nbconvert_exporter": "python",
      "pygments_lexer": "ipython3",
      "version": "3.7.4"
    },
    "colab": {
      "name": "Task3&4_NorahFahad.ipynb",
      "provenance": [],
      "collapsed_sections": []
    }
  },
  "nbformat": 4,
  "nbformat_minor": 0
}