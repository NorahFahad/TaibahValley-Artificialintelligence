{
  "nbformat": 4,
  "nbformat_minor": 0,
  "metadata": {
    "colab": {
      "name": "Task2_NorahFahad.ipynb",
      "provenance": [],
      "collapsed_sections": []
    },
    "kernelspec": {
      "name": "python3",
      "display_name": "Python 3"
    },
    "language_info": {
      "name": "python"
    }
  },
  "cells": [
    {
      "cell_type": "markdown",
      "source": [
        "# Task 2 🚀\n",
        "In this task, we want you to visit [Hacker Rank](https://www.hackerrank.com/domains/python) website and choose at least 10 programming questions in Python programming language and answer them below.\n",
        "\n",
        "> The questions you will choose should be as follows:\n",
        "\n",
        "* 5 Easy Questions\n",
        "* 4 Medium Questions\n",
        "*  1 Hard Question\n",
        "\n",
        "\n",
        "\\\n",
        "\n",
        "Use the code and text fields to format your notebook. Use text fields to format your name, assignment number, date, and to add question numbers before your solutions. Then, use the code fields to write the code that answers the specific questions. **Be sure to document your code using the # for comments**.\n"
      ],
      "metadata": {
        "id": "piJqPEaBlhV0"
      }
    },
    {
      "cell_type": "markdown",
      "source": [
        "# Exercise Template"
      ],
      "metadata": {
        "id": "-Nxt5RNANR8q"
      }
    },
    {
      "cell_type": "markdown",
      "source": [
        "## Exercise 1.1\n",
        "\n",
        "\n",
        "* **Exercise Title:** Python If-Else\n",
        "\n",
        "* **Exercise Category:** Easy\n",
        "\n",
        "* **Exercise Link:** [Python If-Else](https://www.hackerrank.com/challenges/py-if-else/problem?isFullScreen=true//)\n"
      ],
      "metadata": {
        "id": "suTwM0xeocFU"
      }
    },
    {
      "cell_type": "code",
      "source": [
        "import math\n",
        "import os\n",
        "import random\n",
        "import re\n",
        "import sys\n",
        "\n",
        "if __name__ == '__main__':\n",
        "    n = int(input().strip()) #read the input from user after remove leading and whitespaces\n",
        "\n",
        "if n%2==0: #if the number is even\n",
        "    if n>=2 and n<=5: #if the number is even and between 2 and 5\n",
        "        print(\"Not Weird\")\n",
        "    elif n>=6 and n<=20:  #if the number is even and between 6 and 20\n",
        "        print(\"Weird\")\n",
        "    else:  #if the number is even and greater than 20\n",
        "        print(\"Not Weird\")\n",
        "    \n",
        "else:  #if the number is odd\n",
        "    print(\"Weird\")"
      ],
      "metadata": {
        "id": "Gr6M6WIupUNs",
        "colab": {
          "base_uri": "https://localhost:8080/"
        },
        "outputId": "d067c138-8a17-4d3a-e377-4c3c7c94c686"
      },
      "execution_count": null,
      "outputs": [
        {
          "output_type": "stream",
          "name": "stdout",
          "text": [
            "3\n",
            "Weird\n"
          ]
        }
      ]
    },
    {
      "cell_type": "markdown",
      "source": [
        "## Exercise 1.2\n",
        "\n",
        "* **Exercise Title:** Arithmetic Operators\n",
        "\n",
        "* **Exercise Category:** Easy\n",
        "\n",
        "* **Exercise Link:** [Arithmetic Operators](https://www.hackerrank.com/challenges/python-arithmetic-operators/problem)\n"
      ],
      "metadata": {
        "id": "asnJQVc4NrBv"
      }
    },
    {
      "cell_type": "code",
      "source": [
        "if __name__ == '__main__':\n",
        "    a = int(input()) #read the first number\n",
        "    b = int(input()) #read the second number\n",
        "    \n",
        "result1 = a + b #sum\n",
        "result2 = a - b #difference\n",
        "result3 = a * b #product\n",
        "\n",
        "#print the result\n",
        "print(result1)\n",
        "print(result2)\n",
        "print(result3)"
      ],
      "metadata": {
        "id": "hzFa5uNKNsGQ",
        "colab": {
          "base_uri": "https://localhost:8080/"
        },
        "outputId": "25467b8c-3971-4da3-da99-6fa74f7854c9"
      },
      "execution_count": null,
      "outputs": [
        {
          "output_type": "stream",
          "name": "stdout",
          "text": [
            "8\n",
            "7\n",
            "15\n",
            "1\n",
            "56\n"
          ]
        }
      ]
    },
    {
      "cell_type": "markdown",
      "source": [
        "## Exercise 1.3\n",
        "\n",
        "* **Exercise Title:** Division\n",
        "\n",
        "* **Exercise Category:** Easy\n",
        "\n",
        "* **Exercise Link:** [Division](https://www.hackerrank.com/challenges/python-division/problem)"
      ],
      "metadata": {
        "id": "CCoJ4pmaNvim"
      }
    },
    {
      "cell_type": "code",
      "source": [
        "from __future__ import division\n",
        "\n",
        "if __name__ == '__main__':\n",
        "    a = int(input()) #read the first number\n",
        "    b = int(input()) #read the second number\n",
        "\n",
        "result1 = a // b #integer division\n",
        "result2 = a / b #float division\n",
        "\n",
        "#print the result\n",
        "print(result1)\n",
        "print(result2)"
      ],
      "metadata": {
        "id": "u4e7fA3WNvin",
        "colab": {
          "base_uri": "https://localhost:8080/"
        },
        "outputId": "b2f619e7-fe8f-482e-92e4-42ae68faf7fb"
      },
      "execution_count": null,
      "outputs": [
        {
          "output_type": "stream",
          "name": "stdout",
          "text": [
            "9\n",
            "4\n",
            "2\n",
            "2.25\n"
          ]
        }
      ]
    },
    {
      "cell_type": "markdown",
      "source": [
        "## Exercise 1.4\n",
        "\n",
        "* **Exercise Title:** Loops\n",
        "\n",
        "* **Exercise Category:** Easy\n",
        "\n",
        "* **Exercise Link:** [Loops](https://www.hackerrank.com/challenges/python-loops/problem)"
      ],
      "metadata": {
        "id": "mH_-SykPNvll"
      }
    },
    {
      "cell_type": "code",
      "source": [
        "if __name__ == '__main__':\n",
        "    n = int(input()) #read the integer\n",
        "\n",
        "if (n<=0) or (n>=21): #Constraints 1<=n<=20\n",
        "    print(\"Exit\")\n",
        "else:\n",
        "    for i in range(0,n): #loop for print the square for each number that are less than n and non-nefative\n",
        "        print(i*i)"
      ],
      "metadata": {
        "id": "0Vm7rHlKNvln",
        "colab": {
          "base_uri": "https://localhost:8080/"
        },
        "outputId": "80971df2-7653-47cb-a811-95f567f40039"
      },
      "execution_count": null,
      "outputs": [
        {
          "output_type": "stream",
          "name": "stdout",
          "text": [
            "7\n",
            "0\n",
            "1\n",
            "4\n",
            "9\n",
            "16\n",
            "25\n",
            "36\n"
          ]
        }
      ]
    },
    {
      "cell_type": "markdown",
      "source": [
        "## Exercise 1.5\n",
        "\n",
        "* **Exercise Title:** Print Function\n",
        "\n",
        "* **Exercise Category:** Easy\n",
        "\n",
        "* **Exercise Link:** [Print Function](https://www.hackerrank.com/challenges/python-print/problem)"
      ],
      "metadata": {
        "id": "KhCPHglENvvb"
      }
    },
    {
      "cell_type": "code",
      "source": [
        "if __name__ == '__main__':\n",
        "    n = int(input()) #read the integer\n",
        "\n",
        "for i in range(1,n+1): #for loop to print from 1 to n \n",
        "        print(i,end=\"\") #end used to print the output in a single line"
      ],
      "metadata": {
        "id": "nDgV5g3kNvvd",
        "colab": {
          "base_uri": "https://localhost:8080/"
        },
        "outputId": "444895d3-1746-4d3b-9264-bb3e8daa1a5a"
      },
      "execution_count": null,
      "outputs": [
        {
          "output_type": "stream",
          "name": "stdout",
          "text": [
            "8\n",
            "12345678"
          ]
        }
      ]
    },
    {
      "cell_type": "markdown",
      "source": [
        "## Exercise 1.6\n",
        "\n",
        "\n",
        "* **Exercise Title:** Compress the String!\n",
        "\n",
        "* **Exercise Category:** Medium\n",
        "\n",
        "* **Exercise Link:** [Compress the String!](https://www.hackerrank.com/challenges/compress-the-string/problem)"
      ],
      "metadata": {
        "id": "1lU8HJBiveBg"
      }
    },
    {
      "cell_type": "code",
      "source": [
        "import itertools\n",
        "\n",
        "s = input() #read string from user\n",
        "groupby = itertools.groupby(s) #groupby the string\n",
        "\n",
        "for key,grp in groupby: #key is the integer - grp is the number of repetitions\n",
        "    print((len(list(grp)), int(key)) ,end = \" \") #len(list(grp)) to print the number of repetitions - int(key) to convert the number from sting to int"
      ],
      "metadata": {
        "id": "Ra6QAdN9v5Qf",
        "colab": {
          "base_uri": "https://localhost:8080/"
        },
        "outputId": "19c192c0-ee9f-4006-f3ed-0e2a2a15e2c4"
      },
      "execution_count": null,
      "outputs": [
        {
          "output_type": "stream",
          "name": "stdout",
          "text": [
            "1222311\n",
            "(1, 1) (3, 2) (1, 3) (2, 1) "
          ]
        }
      ]
    },
    {
      "cell_type": "markdown",
      "source": [
        "## Exercise 1.7\n",
        "\n",
        "\n",
        "* **Exercise Title:** Write a function\n",
        "\n",
        "* **Exercise Category:** Medium\n",
        "\n",
        "* **Exercise Link:** [Write a function](https://www.hackerrank.com/challenges/write-a-function/problem)"
      ],
      "metadata": {
        "id": "7Gb9aH5GwOUj"
      }
    },
    {
      "cell_type": "code",
      "source": [
        "def is_leap(year): #define the function\n",
        "    leap = False #initial value for the leap is false\n",
        "\n",
        "    if 1900<=year<=pow(10,5): #constraint  \n",
        "        if year%4==0: #if the year is divisible by 4 it is a leap year\n",
        "            leap = True\n",
        "            if year%100==0: #if the year is divisible by 100 it is not a leap year\n",
        "                leap = False\n",
        "                if year%400==0: #if the year is divisible by 400 it is a leap year\n",
        "                    leap = True\n",
        "                else:\n",
        "                    leap = False\n",
        "            else:\n",
        "                leap = False\n",
        "        else:\n",
        "            leap = False               \n",
        "    else: #out of the constraint\n",
        "        leap = False\n",
        "    \n",
        "    return leap #return the boolean value\n",
        "\n",
        "year = int(input()) #read the year from user\n",
        "print(is_leap(year)) #print the retuned boolean valur for the year"
      ],
      "metadata": {
        "id": "0yN8aW4ZwVil",
        "colab": {
          "base_uri": "https://localhost:8080/"
        },
        "outputId": "637eae25-758d-4f44-b34a-a700bd147f0a"
      },
      "execution_count": null,
      "outputs": [
        {
          "output_type": "stream",
          "name": "stdout",
          "text": [
            "1992\n",
            "False\n"
          ]
        }
      ]
    },
    {
      "cell_type": "markdown",
      "source": [
        "## Exercise 1.8\n",
        "\n",
        "\n",
        "* **Exercise Title:** Triangle Quest\n",
        "\n",
        "* **Exercise Category:** Medium\n",
        "\n",
        "* **Exercise Link:** [Triangle Quest](https://www.hackerrank.com/challenges/python-quest-1/problem)"
      ],
      "metadata": {
        "id": "rRFcG3iBwlvU"
      }
    },
    {
      "cell_type": "code",
      "source": [
        "for i in range(1,int(input())): \n",
        "    print((pow(10,i)//9) * i) #for example (10**4//9) will give 1111 so (1111 * 4) result is 4444"
      ],
      "metadata": {
        "id": "O-FVYS-1wpdu",
        "colab": {
          "base_uri": "https://localhost:8080/"
        },
        "outputId": "9253e4c4-445e-46ae-c515-9a4474324a22"
      },
      "execution_count": null,
      "outputs": [
        {
          "output_type": "stream",
          "name": "stdout",
          "text": [
            "6\n",
            "1\n",
            "22\n",
            "333\n",
            "4444\n",
            "55555\n"
          ]
        }
      ]
    },
    {
      "cell_type": "markdown",
      "source": [
        "## Exercise 1.9\n",
        "\n",
        "\n",
        "* **Exercise Title:** Triangle Quest 2\n",
        "\n",
        "* **Exercise Category:** Medium\n",
        "\n",
        "* **Exercise Link:** [Triangle Quest 2](https://www.hackerrank.com/challenges/triangle-quest-2/problem)"
      ],
      "metadata": {
        "id": "DDyO3Cq8wp0S"
      }
    },
    {
      "cell_type": "code",
      "source": [
        "for i in range(1,int(input())+1):#More than 2 lines will result in 0 score. Do not leave a blank line also\n",
        "    print((pow(10,i)//9)**2)#for example pow(10,4)//9 result to 1111 then (1111**2) result to 1234321"
      ],
      "metadata": {
        "id": "zkuEqVSpwrZj",
        "colab": {
          "base_uri": "https://localhost:8080/"
        },
        "outputId": "bec553f2-bee9-470f-83bc-66fdd904f09a"
      },
      "execution_count": null,
      "outputs": [
        {
          "output_type": "stream",
          "name": "stdout",
          "text": [
            "6\n",
            "1\n",
            "121\n",
            "12321\n",
            "1234321\n",
            "123454321\n",
            "12345654321\n"
          ]
        }
      ]
    },
    {
      "cell_type": "markdown",
      "source": [
        "## Exercise 2.0\n",
        "\n",
        "\n",
        "* **Exercise Title:** Matrix Script\n",
        "\n",
        "* **Exercise Category:** Hard\n",
        "\n",
        "* **Exercise Link:** [Matrix Script](https://www.hackerrank.com/challenges/matrix-script/problem)"
      ],
      "metadata": {
        "id": "3qZGI2gmwrsH"
      }
    },
    {
      "cell_type": "code",
      "source": [
        "import math\n",
        "import os\n",
        "import random\n",
        "import re\n",
        "import sys\n",
        "\n",
        "first_multiple_input = input().rstrip().split()\n",
        "\n",
        "n = int(first_multiple_input[0]) #read first element which is the number of rows\n",
        "m = int(first_multiple_input[1]) #read second element which is the number of column\n",
        "\n",
        "matrix = [] #matrix list\n",
        "for _ in range(n): #loop to read the matrix elements\n",
        "    matrix_item = input() #read the matrix elements\n",
        "    matrix.append(matrix_item) #append the element in matrix list\n",
        "\n",
        "decoded_list = list(zip(*matrix)) #zip is used to returns an iterator of tuples with each tuple having only one element its return zip object so I used list() to print the values\n",
        "\n",
        "decoded_string = ''\n",
        "for item in decoded_list:\n",
        "    decoded_string = decoded_string + \"\".join(item) #The join() method takes all items in an iterable and joins them into one string\n",
        "\n",
        "print(re.sub(r'\\b[^a-zA-Z0-9]+\\b',r' ',decoded_string)) #r'\\b[^a-zA-Z0-9]+\\b' this mean replace every non character from the given but in the boundary of the string - r' ' Replacing with single space"
      ],
      "metadata": {
        "id": "2yGp4979xIyA",
        "colab": {
          "base_uri": "https://localhost:8080/"
        },
        "outputId": "b12deded-1b53-472f-a684-8b5260b8f5d2"
      },
      "execution_count": null,
      "outputs": [
        {
          "output_type": "stream",
          "name": "stdout",
          "text": [
            "7 3\n",
            "Tsi\n",
            "h%x\n",
            "i #\n",
            "sM \n",
            "$a \n",
            "#t%\n",
            "ir!\n",
            "This is Matrix#  %!\n"
          ]
        }
      ]
    }
  ]
}